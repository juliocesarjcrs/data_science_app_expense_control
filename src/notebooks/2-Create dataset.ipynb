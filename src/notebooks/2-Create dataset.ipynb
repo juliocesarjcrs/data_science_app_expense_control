{
 "cells": [
  {
   "cell_type": "markdown",
   "id": "da1330e8-1cc6-47ab-b5f7-c2084b8f4054",
   "metadata": {},
   "source": [
    "# Introduction"
   ]
  },
  {
   "cell_type": "markdown",
   "id": "7d74b7b6-9929-4d8e-8a31-bd6035af23ab",
   "metadata": {},
   "source": [
    "In this notebook, we are only considering the second raw dataset \"expenses.csv\" for future development."
   ]
  },
  {
   "cell_type": "code",
   "execution_count": 1,
   "id": "f26650e1",
   "metadata": {
    "tags": []
   },
   "outputs": [],
   "source": [
    "import pandas as pd\n",
    "import numpy as np\n",
    "import matplotlib.pyplot as plt"
   ]
  },
  {
   "cell_type": "code",
   "execution_count": 2,
   "id": "8da9a795-971e-49d5-8cd5-8de0569e638c",
   "metadata": {
    "tags": []
   },
   "outputs": [],
   "source": [
    "path_load = \"../../data/\""
   ]
  },
  {
   "cell_type": "code",
   "execution_count": 3,
   "id": "82e28f23",
   "metadata": {
    "tags": []
   },
   "outputs": [],
   "source": [
    "file_name = \"raw/expenses.csv\"\n",
    "full_path = path_load + file_name\n",
    "data = pd.read_csv(full_path,parse_dates =[\"date\"])\n",
    "# data['date']  = pd.to_datetime(data['date']) otra opción si no se aplicara parse_dates"
   ]
  },
  {
   "cell_type": "code",
   "execution_count": 4,
   "id": "0c1792d3",
   "metadata": {
    "tags": []
   },
   "outputs": [
    {
     "data": {
      "text/html": [
       "<div>\n",
       "<style scoped>\n",
       "    .dataframe tbody tr th:only-of-type {\n",
       "        vertical-align: middle;\n",
       "    }\n",
       "\n",
       "    .dataframe tbody tr th {\n",
       "        vertical-align: top;\n",
       "    }\n",
       "\n",
       "    .dataframe thead th {\n",
       "        text-align: right;\n",
       "    }\n",
       "</style>\n",
       "<table border=\"1\" class=\"dataframe\">\n",
       "  <thead>\n",
       "    <tr style=\"text-align: right;\">\n",
       "      <th></th>\n",
       "      <th>id</th>\n",
       "      <th>cost</th>\n",
       "      <th>category</th>\n",
       "      <th>subcategory</th>\n",
       "      <th>created at</th>\n",
       "      <th>date</th>\n",
       "    </tr>\n",
       "  </thead>\n",
       "  <tbody>\n",
       "    <tr>\n",
       "      <th>0</th>\n",
       "      <td>41309</td>\n",
       "      <td>4800</td>\n",
       "      <td>Transporte</td>\n",
       "      <td>Bus/Metrolinea</td>\n",
       "      <td>2023-06-30T00:48:15.669Z</td>\n",
       "      <td>2023-06-29 00:00:00+00:00</td>\n",
       "    </tr>\n",
       "    <tr>\n",
       "      <th>1</th>\n",
       "      <td>41308</td>\n",
       "      <td>80000</td>\n",
       "      <td>Vestuario</td>\n",
       "      <td>Ropa</td>\n",
       "      <td>2023-06-30T00:47:46.593Z</td>\n",
       "      <td>2023-06-29 00:00:00+00:00</td>\n",
       "    </tr>\n",
       "    <tr>\n",
       "      <th>2</th>\n",
       "      <td>41307</td>\n",
       "      <td>8000</td>\n",
       "      <td>Alimentación</td>\n",
       "      <td>Desayunos y cenas</td>\n",
       "      <td>2023-06-29T19:13:34.270Z</td>\n",
       "      <td>2023-06-29 00:00:00+00:00</td>\n",
       "    </tr>\n",
       "    <tr>\n",
       "      <th>3</th>\n",
       "      <td>41306</td>\n",
       "      <td>9550</td>\n",
       "      <td>Alimentación</td>\n",
       "      <td>Onces</td>\n",
       "      <td>2023-06-29T19:10:29.832Z</td>\n",
       "      <td>2023-06-29 00:00:00+00:00</td>\n",
       "    </tr>\n",
       "    <tr>\n",
       "      <th>4</th>\n",
       "      <td>41305</td>\n",
       "      <td>3980</td>\n",
       "      <td>Aseo y cuidado personal</td>\n",
       "      <td>Artículos aseo personal</td>\n",
       "      <td>2023-06-29T19:09:24.961Z</td>\n",
       "      <td>2023-06-29 00:00:00+00:00</td>\n",
       "    </tr>\n",
       "  </tbody>\n",
       "</table>\n",
       "</div>"
      ],
      "text/plain": [
       "      id   cost                 category              subcategory   \n",
       "0  41309   4800               Transporte           Bus/Metrolinea  \\\n",
       "1  41308  80000                Vestuario                     Ropa   \n",
       "2  41307   8000             Alimentación        Desayunos y cenas   \n",
       "3  41306   9550             Alimentación                    Onces   \n",
       "4  41305   3980  Aseo y cuidado personal  Artículos aseo personal   \n",
       "\n",
       "                 created at                      date  \n",
       "0  2023-06-30T00:48:15.669Z 2023-06-29 00:00:00+00:00  \n",
       "1  2023-06-30T00:47:46.593Z 2023-06-29 00:00:00+00:00  \n",
       "2  2023-06-29T19:13:34.270Z 2023-06-29 00:00:00+00:00  \n",
       "3  2023-06-29T19:10:29.832Z 2023-06-29 00:00:00+00:00  \n",
       "4  2023-06-29T19:09:24.961Z 2023-06-29 00:00:00+00:00  "
      ]
     },
     "execution_count": 4,
     "metadata": {},
     "output_type": "execute_result"
    }
   ],
   "source": [
    "data.head()"
   ]
  },
  {
   "cell_type": "code",
   "execution_count": 5,
   "id": "0e02b77a",
   "metadata": {
    "tags": []
   },
   "outputs": [
    {
     "data": {
      "text/html": [
       "<div>\n",
       "<style scoped>\n",
       "    .dataframe tbody tr th:only-of-type {\n",
       "        vertical-align: middle;\n",
       "    }\n",
       "\n",
       "    .dataframe tbody tr th {\n",
       "        vertical-align: top;\n",
       "    }\n",
       "\n",
       "    .dataframe thead th {\n",
       "        text-align: right;\n",
       "    }\n",
       "</style>\n",
       "<table border=\"1\" class=\"dataframe\">\n",
       "  <thead>\n",
       "    <tr style=\"text-align: right;\">\n",
       "      <th></th>\n",
       "      <th>id</th>\n",
       "      <th>cost</th>\n",
       "    </tr>\n",
       "  </thead>\n",
       "  <tbody>\n",
       "    <tr>\n",
       "      <th>count</th>\n",
       "      <td>3618.000000</td>\n",
       "      <td>3.618000e+03</td>\n",
       "    </tr>\n",
       "    <tr>\n",
       "      <th>mean</th>\n",
       "      <td>26150.033444</td>\n",
       "      <td>2.152545e+04</td>\n",
       "    </tr>\n",
       "    <tr>\n",
       "      <th>std</th>\n",
       "      <td>13118.162323</td>\n",
       "      <td>8.344430e+04</td>\n",
       "    </tr>\n",
       "    <tr>\n",
       "      <th>min</th>\n",
       "      <td>1734.000000</td>\n",
       "      <td>1.500000e+02</td>\n",
       "    </tr>\n",
       "    <tr>\n",
       "      <th>25%</th>\n",
       "      <td>13576.500000</td>\n",
       "      <td>3.400000e+03</td>\n",
       "    </tr>\n",
       "    <tr>\n",
       "      <th>50%</th>\n",
       "      <td>27779.000000</td>\n",
       "      <td>5.500000e+03</td>\n",
       "    </tr>\n",
       "    <tr>\n",
       "      <th>75%</th>\n",
       "      <td>39875.750000</td>\n",
       "      <td>1.200000e+04</td>\n",
       "    </tr>\n",
       "    <tr>\n",
       "      <th>max</th>\n",
       "      <td>41309.000000</td>\n",
       "      <td>2.031520e+06</td>\n",
       "    </tr>\n",
       "  </tbody>\n",
       "</table>\n",
       "</div>"
      ],
      "text/plain": [
       "                 id          cost\n",
       "count   3618.000000  3.618000e+03\n",
       "mean   26150.033444  2.152545e+04\n",
       "std    13118.162323  8.344430e+04\n",
       "min     1734.000000  1.500000e+02\n",
       "25%    13576.500000  3.400000e+03\n",
       "50%    27779.000000  5.500000e+03\n",
       "75%    39875.750000  1.200000e+04\n",
       "max    41309.000000  2.031520e+06"
      ]
     },
     "execution_count": 5,
     "metadata": {},
     "output_type": "execute_result"
    }
   ],
   "source": [
    "data.describe()"
   ]
  },
  {
   "cell_type": "code",
   "execution_count": 6,
   "id": "8b6257a9",
   "metadata": {
    "tags": []
   },
   "outputs": [],
   "source": [
    "grouped_date = data.groupby(\"date\")"
   ]
  },
  {
   "cell_type": "code",
   "execution_count": 7,
   "id": "20996e32",
   "metadata": {
    "tags": []
   },
   "outputs": [
    {
     "data": {
      "text/plain": [
       "{2021-07-01 00:00:00+00:00: [3616, 3617], 2021-07-13 00:00:00+00:00: [3615], 2021-07-16 00:00:00+00:00: [3614], 2021-07-17 00:00:00+00:00: [3611, 3612, 3613], 2021-07-19 00:00:00+00:00: [3610], 2021-07-20 00:00:00+00:00: [3598, 3599, 3600, 3601, 3602, 3603, 3604, 3605, 3606, 3607, 3608, 3609], 2021-07-22 00:00:00+00:00: [3597], 2021-07-23 00:00:00+00:00: [3596], 2021-07-30 00:00:00+00:00: [3593, 3594, 3595], 2021-07-31 00:00:00+00:00: [3583, 3584, 3585, 3586, 3587, 3588, 3589, 3590, 3591, 3592], 2021-08-01 00:00:00+00:00: [3576, 3577, 3578, 3579, 3580, 3581, 3582], 2021-08-02 00:00:00+00:00: [3573, 3574, 3575], 2021-08-03 00:00:00+00:00: [3570, 3571, 3572], 2021-08-04 00:00:00+00:00: [3567, 3568, 3569], 2021-08-05 00:00:00+00:00: [3561, 3562, 3563, 3564, 3565, 3566], 2021-08-06 00:00:00+00:00: [3551, 3552, 3553, 3554, 3555, 3556, 3557, 3558, 3559, 3560], 2021-08-07 00:00:00+00:00: [3547, 3548, 3549, 3550], 2021-08-08 00:00:00+00:00: [3537, 3538, 3539, 3540, 3541, 3542, 3543, 3544, 3545, 3546], 2021-08-09 00:00:00+00:00: [3529, 3530, 3531, 3532, 3533, 3534, 3535, 3536], 2021-08-10 00:00:00+00:00: [3525, 3526, 3527, 3528], 2021-08-11 00:00:00+00:00: [3517, 3518, 3519, 3520, 3521, 3522, 3523, 3524], 2021-08-12 00:00:00+00:00: [3503, 3504, 3505, 3506, 3507, 3508, 3509, 3510, 3511, 3512, 3513, 3514, 3515, 3516], 2021-08-13 00:00:00+00:00: [3498, 3499, 3500, 3501, 3502], 2021-08-14 00:00:00+00:00: [3480, 3481, 3482, 3483, 3484, 3485, 3486, 3487, 3488, 3489, 3490, 3491, 3492, 3493, 3494, 3495, 3496, 3497], 2021-08-15 00:00:00+00:00: [3473, 3474, 3475, 3476, 3477, 3478, 3479], 2021-08-16 00:00:00+00:00: [3470, 3471, 3472], 2021-08-17 00:00:00+00:00: [3467, 3468, 3469], 2021-08-18 00:00:00+00:00: [3466], 2021-08-19 00:00:00+00:00: [3463, 3464, 3465], 2021-08-20 00:00:00+00:00: [3462], 2021-08-21 00:00:00+00:00: [3456, 3457, 3458, 3459, 3460, 3461], 2021-08-22 00:00:00+00:00: [3453, 3454, 3455], 2021-08-23 00:00:00+00:00: [3450, 3451, 3452], 2021-08-24 00:00:00+00:00: [3449], 2021-08-25 00:00:00+00:00: [3448], 2021-08-26 00:00:00+00:00: [3445, 3446, 3447], 2021-08-28 00:00:00+00:00: [3440, 3441, 3442, 3443, 3444], 2021-08-29 00:00:00+00:00: [3434, 3435, 3436, 3437, 3438, 3439], 2021-08-30 00:00:00+00:00: [3430, 3431, 3432, 3433], 2021-08-31 00:00:00+00:00: [3426, 3427, 3428, 3429], 2021-09-01 00:00:00+00:00: [3416, 3417, 3418, 3419, 3420, 3421, 3422, 3423, 3424, 3425], 2021-09-02 00:00:00+00:00: [3413, 3414, 3415], 2021-09-03 00:00:00+00:00: [3404, 3405, 3406, 3407, 3408, 3412], 2021-09-04 00:00:00+00:00: [3393, 3394, 3395, 3396, 3397, 3398, 3399, 3400, 3401, 3402, 3403, 3409, 3410, 3411], 2021-09-05 00:00:00+00:00: [3391, 3392], 2021-09-06 00:00:00+00:00: [3386, 3387, 3388, 3389, 3390], 2021-09-07 00:00:00+00:00: [3374, 3375, 3376, 3377, 3378, 3379, 3380, 3381, 3382, 3383, 3384, 3385], 2021-09-08 00:00:00+00:00: [3370, 3371, 3372, 3373], 2021-09-09 00:00:00+00:00: [3364, 3365, 3366, 3367, 3368, 3369], 2021-09-10 00:00:00+00:00: [3353, 3354, 3355, 3356, 3357, 3358, 3359, 3360, 3361, 3362, 3363], 2021-09-11 00:00:00+00:00: [3343, 3344, 3345, 3346, 3347, 3348, 3349, 3350, 3351, 3352], 2021-09-12 00:00:00+00:00: [3337, 3338, 3339, 3340, 3341, 3342], 2021-09-13 00:00:00+00:00: [3328, 3329, 3330, 3331, 3332, 3333, 3334, 3335, 3336], 2021-09-14 00:00:00+00:00: [3316, 3317, 3318, 3319, 3320, 3321, 3322, 3323, 3324, 3325, 3326, 3327], 2021-09-15 00:00:00+00:00: [3314, 3315], 2021-09-16 00:00:00+00:00: [3306, 3307, 3308, 3309, 3310, 3311, 3312, 3313], 2021-09-17 00:00:00+00:00: [3300, 3304, 3305], 2021-09-18 00:00:00+00:00: [3294, 3295, 3296, 3297, 3298, 3299, 3301, 3302, 3303], 2021-09-19 00:00:00+00:00: [3291, 3292, 3293], 2021-09-20 00:00:00+00:00: [3286, 3287, 3288, 3289, 3290], 2021-09-21 00:00:00+00:00: [3283, 3284, 3285], 2021-09-22 00:00:00+00:00: [3280, 3281, 3282], 2021-09-23 00:00:00+00:00: [3267, 3268, 3269, 3270, 3271, 3272, 3273, 3274, 3275, 3276, 3277, 3278, 3279], 2021-09-24 00:00:00+00:00: [3248, 3265, 3266], 2021-09-25 00:00:00+00:00: [3249, 3250, 3251, 3252, 3253, 3254, 3255, 3256, 3257, 3258, 3259, 3260, 3261, 3262, 3263, 3264], 2021-09-27 00:00:00+00:00: [3246, 3247], 2021-09-28 00:00:00+00:00: [3243, 3244, 3245], 2021-09-29 00:00:00+00:00: [3218, 3239, 3240, 3241, 3242], 2021-09-30 00:00:00+00:00: [3219, 3220, 3221, 3222, 3223, 3224, 3225, 3226, 3227, 3228, 3229, 3230, 3231, 3232, 3233, 3234, 3235, 3236, 3237, 3238], 2021-10-01 00:00:00+00:00: [3213, 3214, 3215, 3216, 3217], 2021-10-02 00:00:00+00:00: [3207, 3208, 3209, 3210, 3211, 3212], 2021-10-03 00:00:00+00:00: [3201, 3202, 3203, 3204, 3205, 3206], 2021-10-04 00:00:00+00:00: [3191, 3198, 3199, 3200], 2021-10-05 00:00:00+00:00: [3192, 3195, 3196, 3197], 2021-10-06 00:00:00+00:00: [3188, 3189, 3190, 3193, 3194], 2021-10-07 00:00:00+00:00: [3183, 3184, 3185, 3187], 2021-10-08 00:00:00+00:00: [3179, 3180, 3181, 3182, 3186], 2021-10-09 00:00:00+00:00: [3173, 3174, 3175, 3176, 3177, 3178], 2021-10-10 00:00:00+00:00: [3168, 3169, 3170, 3171, 3172], 2021-10-11 00:00:00+00:00: [3143, 3144, 3145, 3163, 3164, 3165, 3166, 3167], 2021-10-12 00:00:00+00:00: [3139, 3140, 3141, 3142, 3146, 3147, 3148, 3149, 3150, 3151, 3152, 3153, 3154, 3155, 3156, 3157, 3158, 3159, 3160, 3161, 3162], 2021-10-13 00:00:00+00:00: [3136, 3137, 3138], 2021-10-14 00:00:00+00:00: [3131, 3132, 3133, 3134, 3135], 2021-10-15 00:00:00+00:00: [3127, 3128, 3129, 3130], 2021-10-16 00:00:00+00:00: [3121, 3122, 3123, 3124, 3125, 3126], 2021-10-17 00:00:00+00:00: [3106, 3107, 3108, 3109, 3110, 3111, 3112, 3113, 3114, 3115, 3116, 3117, 3118, 3119, 3120], 2021-10-19 00:00:00+00:00: [3095, 3096, 3097, 3098, 3099, 3100, 3101, 3102, 3103, 3104, 3105], 2021-10-20 00:00:00+00:00: [3092, 3093, 3094], 2021-10-21 00:00:00+00:00: [3070, 3071, 3072, 3073, 3074, 3075, 3076, 3077, 3078, 3079, 3080, 3081, 3082, 3083, 3084, 3085, 3086, 3087, 3088, 3089, 3090, 3091], 2021-10-22 00:00:00+00:00: [3062, 3063, 3064, 3065, 3066, 3067, 3068, 3069], 2021-10-23 00:00:00+00:00: [3058, 3059, 3060, 3061], 2021-10-24 00:00:00+00:00: [3053, 3054, 3055, 3056, 3057], 2021-10-25 00:00:00+00:00: [3049, 3050, 3051, 3052], 2021-10-26 00:00:00+00:00: [3042, 3043, 3044, 3045, 3046, 3047, 3048], 2021-10-27 00:00:00+00:00: [3039, 3040, 3041], 2021-10-28 00:00:00+00:00: [3035, 3036, 3037, 3038], 2021-10-29 00:00:00+00:00: [3020, 3021, 3022, 3023, 3024, 3025, 3026, 3027, 3028, 3029, 3030, 3031, 3032, 3033, 3034], 2021-10-30 00:00:00+00:00: [3014, 3015, 3016, 3017, 3019], 2021-10-31 00:00:00+00:00: [3009, 3010, 3011, 3012, 3013], 2021-11-01 00:00:00+00:00: [3005, 3006, 3007, 3008, 3018], ...}"
      ]
     },
     "execution_count": 7,
     "metadata": {},
     "output_type": "execute_result"
    }
   ],
   "source": [
    "grouped_date.groups"
   ]
  },
  {
   "cell_type": "code",
   "execution_count": 8,
   "id": "0983675b",
   "metadata": {
    "tags": []
   },
   "outputs": [
    {
     "data": {
      "text/plain": [
       "id                           int64\n",
       "cost                         int64\n",
       "category                    object\n",
       "subcategory                 object\n",
       "created at                  object\n",
       "date           datetime64[ns, UTC]\n",
       "dtype: object"
      ]
     },
     "execution_count": 8,
     "metadata": {},
     "output_type": "execute_result"
    }
   ],
   "source": [
    "data.dtypes"
   ]
  },
  {
   "cell_type": "markdown",
   "id": "24b5ea09",
   "metadata": {},
   "source": [
    "# Muestrar por mes"
   ]
  },
  {
   "cell_type": "code",
   "execution_count": 9,
   "id": "5f4b12e8",
   "metadata": {
    "tags": []
   },
   "outputs": [
    {
     "data": {
      "text/plain": [
       "date\n",
       "2021-07-31 00:00:00+00:00    1854810\n",
       "2021-08-31 00:00:00+00:00    2949470\n",
       "2021-09-30 00:00:00+00:00    2449092\n",
       "2021-10-31 00:00:00+00:00    3269372\n",
       "2021-11-30 00:00:00+00:00    3143335\n",
       "2021-12-31 00:00:00+00:00    4119692\n",
       "2022-01-31 00:00:00+00:00    3121610\n",
       "2022-02-28 00:00:00+00:00    2049788\n",
       "2022-03-31 00:00:00+00:00    2947435\n",
       "2022-04-30 00:00:00+00:00    2756124\n",
       "2022-05-31 00:00:00+00:00    3475179\n",
       "2022-06-30 00:00:00+00:00    4345208\n",
       "2022-07-31 00:00:00+00:00    3511116\n",
       "2022-08-31 00:00:00+00:00    3591612\n",
       "2022-09-30 00:00:00+00:00    4082624\n",
       "2022-10-31 00:00:00+00:00    5296946\n",
       "2022-11-30 00:00:00+00:00    4466767\n",
       "2022-12-31 00:00:00+00:00    2901875\n",
       "2023-01-31 00:00:00+00:00    2962677\n",
       "2023-02-28 00:00:00+00:00    2505194\n",
       "2023-03-31 00:00:00+00:00    2882122\n",
       "2023-04-30 00:00:00+00:00    3245723\n",
       "2023-05-31 00:00:00+00:00    3359652\n",
       "2023-06-30 00:00:00+00:00    2591666\n",
       "Freq: M, Name: cost, dtype: int64"
      ]
     },
     "execution_count": 9,
     "metadata": {},
     "output_type": "execute_result"
    }
   ],
   "source": [
    "resample_date = data.resample('1M', on='date').cost.sum()\n",
    "resample_date"
   ]
  },
  {
   "cell_type": "code",
   "execution_count": 10,
   "id": "7dd976b5",
   "metadata": {
    "tags": []
   },
   "outputs": [],
   "source": [
    "x = resample_date.index\n",
    "y = resample_date.values"
   ]
  },
  {
   "cell_type": "code",
   "execution_count": 11,
   "id": "75d43214",
   "metadata": {
    "tags": []
   },
   "outputs": [
    {
     "name": "stdout",
     "output_type": "stream",
     "text": [
      "Promedio gastos mensual: 3244962.0416666665\n"
     ]
    }
   ],
   "source": [
    "print('Promedio gastos mensual:', y.mean())"
   ]
  },
  {
   "cell_type": "code",
   "execution_count": 12,
   "id": "4dbf27e6",
   "metadata": {
    "tags": []
   },
   "outputs": [
    {
     "data": {
      "text/plain": [
       "DatetimeIndex(['2021-07-31 00:00:00+00:00', '2021-08-31 00:00:00+00:00',\n",
       "               '2021-09-30 00:00:00+00:00', '2021-10-31 00:00:00+00:00',\n",
       "               '2021-11-30 00:00:00+00:00', '2021-12-31 00:00:00+00:00',\n",
       "               '2022-01-31 00:00:00+00:00', '2022-02-28 00:00:00+00:00',\n",
       "               '2022-03-31 00:00:00+00:00', '2022-04-30 00:00:00+00:00',\n",
       "               '2022-05-31 00:00:00+00:00', '2022-06-30 00:00:00+00:00',\n",
       "               '2022-07-31 00:00:00+00:00', '2022-08-31 00:00:00+00:00',\n",
       "               '2022-09-30 00:00:00+00:00', '2022-10-31 00:00:00+00:00',\n",
       "               '2022-11-30 00:00:00+00:00', '2022-12-31 00:00:00+00:00',\n",
       "               '2023-01-31 00:00:00+00:00', '2023-02-28 00:00:00+00:00',\n",
       "               '2023-03-31 00:00:00+00:00', '2023-04-30 00:00:00+00:00',\n",
       "               '2023-05-31 00:00:00+00:00', '2023-06-30 00:00:00+00:00'],\n",
       "              dtype='datetime64[ns, UTC]', name='date', freq='M')"
      ]
     },
     "execution_count": 12,
     "metadata": {},
     "output_type": "execute_result"
    }
   ],
   "source": [
    "x"
   ]
  },
  {
   "cell_type": "code",
   "execution_count": 13,
   "id": "ba6e3962",
   "metadata": {
    "tags": []
   },
   "outputs": [
    {
     "data": {
      "text/plain": [
       "[<matplotlib.lines.Line2D at 0x7f530b1202d0>]"
      ]
     },
     "execution_count": 13,
     "metadata": {},
     "output_type": "execute_result"
    },
    {
     "data": {
      "image/png": "[encoded data removed]",
      "text/plain": [
       "<Figure size 640x480 with 1 Axes>"
      ]
     },
     "metadata": {},
     "output_type": "display_data"
    }
   ],
   "source": [
    "#plt.plot(kind=\"scatter\", x=x, y=y)\n",
    "plt.plot(x, y)"
   ]
  },
  {
   "cell_type": "markdown",
   "id": "36800b10",
   "metadata": {},
   "source": [
    "# Agregando diás festivos al datasets"
   ]
  },
  {
   "cell_type": "code",
   "execution_count": 14,
   "id": "e1da0d70",
   "metadata": {
    "tags": []
   },
   "outputs": [],
   "source": [
    "from datetime import date\n",
    "import holidays"
   ]
  },
  {
   "cell_type": "code",
   "execution_count": 15,
   "id": "19de6bed",
   "metadata": {
    "tags": []
   },
   "outputs": [],
   "source": [
    "co_holidays = holidays.CO()"
   ]
  },
  {
   "cell_type": "code",
   "execution_count": 16,
   "id": "174ef826",
   "metadata": {
    "tags": []
   },
   "outputs": [
    {
     "data": {
      "text/plain": [
       "<function str.index>"
      ]
     },
     "execution_count": 16,
     "metadata": {},
     "output_type": "execute_result"
    }
   ],
   "source": [
    "a = holidays.CO(years = 2022)\n",
    "a[2].index"
   ]
  },
  {
   "cell_type": "code",
   "execution_count": 17,
   "id": "34e167f8",
   "metadata": {
    "tags": []
   },
   "outputs": [],
   "source": [
    "# count holidays in a month\n",
    "def count_holidays_in_month(x):\n",
    "    print(x)\n",
    "    year= x.year\n",
    "    myMonth =  x.month\n",
    "    cant_holidays = 0\n",
    "    for ptr in holidays.CO(years = year).items():\n",
    "        if ptr[0].month == myMonth:\n",
    "            cant_holidays+= 1\n",
    "    return cant_holidays"
   ]
  },
  {
   "cell_type": "code",
   "execution_count": 18,
   "id": "e2c26aef",
   "metadata": {
    "tags": []
   },
   "outputs": [],
   "source": [
    "df=pd.DataFrame()"
   ]
  },
  {
   "cell_type": "code",
   "execution_count": 19,
   "id": "e220dd2e",
   "metadata": {
    "tags": []
   },
   "outputs": [],
   "source": [
    "df['costs'] = resample_date.values"
   ]
  },
  {
   "cell_type": "code",
   "execution_count": 20,
   "id": "49a92c4d",
   "metadata": {
    "tags": []
   },
   "outputs": [
    {
     "data": {
      "text/html": [
       "<div>\n",
       "<style scoped>\n",
       "    .dataframe tbody tr th:only-of-type {\n",
       "        vertical-align: middle;\n",
       "    }\n",
       "\n",
       "    .dataframe tbody tr th {\n",
       "        vertical-align: top;\n",
       "    }\n",
       "\n",
       "    .dataframe thead th {\n",
       "        text-align: right;\n",
       "    }\n",
       "</style>\n",
       "<table border=\"1\" class=\"dataframe\">\n",
       "  <thead>\n",
       "    <tr style=\"text-align: right;\">\n",
       "      <th></th>\n",
       "      <th>costs</th>\n",
       "    </tr>\n",
       "    <tr>\n",
       "      <th>date</th>\n",
       "      <th></th>\n",
       "    </tr>\n",
       "  </thead>\n",
       "  <tbody>\n",
       "    <tr>\n",
       "      <th>2021-07-31 00:00:00+00:00</th>\n",
       "      <td>1854810</td>\n",
       "    </tr>\n",
       "    <tr>\n",
       "      <th>2021-08-31 00:00:00+00:00</th>\n",
       "      <td>2949470</td>\n",
       "    </tr>\n",
       "    <tr>\n",
       "      <th>2021-09-30 00:00:00+00:00</th>\n",
       "      <td>2449092</td>\n",
       "    </tr>\n",
       "    <tr>\n",
       "      <th>2021-10-31 00:00:00+00:00</th>\n",
       "      <td>3269372</td>\n",
       "    </tr>\n",
       "    <tr>\n",
       "      <th>2021-11-30 00:00:00+00:00</th>\n",
       "      <td>3143335</td>\n",
       "    </tr>\n",
       "  </tbody>\n",
       "</table>\n",
       "</div>"
      ],
      "text/plain": [
       "                             costs\n",
       "date                              \n",
       "2021-07-31 00:00:00+00:00  1854810\n",
       "2021-08-31 00:00:00+00:00  2949470\n",
       "2021-09-30 00:00:00+00:00  2449092\n",
       "2021-10-31 00:00:00+00:00  3269372\n",
       "2021-11-30 00:00:00+00:00  3143335"
      ]
     },
     "execution_count": 20,
     "metadata": {},
     "output_type": "execute_result"
    }
   ],
   "source": [
    "df.index = resample_date.index\n",
    "df.head()"
   ]
  },
  {
   "cell_type": "code",
   "execution_count": 21,
   "id": "ee781749",
   "metadata": {
    "tags": []
   },
   "outputs": [
    {
     "name": "stdout",
     "output_type": "stream",
     "text": [
      "DatetimeIndex(['2021-07-31 00:00:00+00:00', '2021-08-31 00:00:00+00:00',\n",
      "               '2021-09-30 00:00:00+00:00', '2021-10-31 00:00:00+00:00',\n",
      "               '2021-11-30 00:00:00+00:00', '2021-12-31 00:00:00+00:00',\n",
      "               '2022-01-31 00:00:00+00:00', '2022-02-28 00:00:00+00:00',\n",
      "               '2022-03-31 00:00:00+00:00', '2022-04-30 00:00:00+00:00',\n",
      "               '2022-05-31 00:00:00+00:00', '2022-06-30 00:00:00+00:00',\n",
      "               '2022-07-31 00:00:00+00:00', '2022-08-31 00:00:00+00:00',\n",
      "               '2022-09-30 00:00:00+00:00', '2022-10-31 00:00:00+00:00',\n",
      "               '2022-11-30 00:00:00+00:00', '2022-12-31 00:00:00+00:00',\n",
      "               '2023-01-31 00:00:00+00:00', '2023-02-28 00:00:00+00:00',\n",
      "               '2023-03-31 00:00:00+00:00', '2023-04-30 00:00:00+00:00',\n",
      "               '2023-05-31 00:00:00+00:00', '2023-06-30 00:00:00+00:00'],\n",
      "              dtype='datetime64[ns, UTC]', freq=None)\n",
      "2021-07-31 00:00:00+00:00\n",
      "2021-08-31 00:00:00+00:00\n",
      "2021-09-30 00:00:00+00:00\n",
      "2021-10-31 00:00:00+00:00\n",
      "2021-11-30 00:00:00+00:00\n",
      "2021-12-31 00:00:00+00:00\n",
      "2022-01-31 00:00:00+00:00\n",
      "2022-02-28 00:00:00+00:00\n",
      "2022-03-31 00:00:00+00:00\n",
      "2022-04-30 00:00:00+00:00\n",
      "2022-05-31 00:00:00+00:00\n",
      "2022-06-30 00:00:00+00:00\n",
      "2022-07-31 00:00:00+00:00\n",
      "2022-08-31 00:00:00+00:00\n",
      "2022-09-30 00:00:00+00:00\n",
      "2022-10-31 00:00:00+00:00\n",
      "2022-11-30 00:00:00+00:00\n",
      "2022-12-31 00:00:00+00:00\n",
      "2023-01-31 00:00:00+00:00\n",
      "2023-02-28 00:00:00+00:00\n",
      "2023-03-31 00:00:00+00:00\n",
      "2023-04-30 00:00:00+00:00\n",
      "2023-05-31 00:00:00+00:00\n",
      "2023-06-30 00:00:00+00:00\n"
     ]
    }
   ],
   "source": [
    "df['holidays'] = df.index.to_series().apply(count_holidays_in_month)"
   ]
  },
  {
   "cell_type": "code",
   "execution_count": 22,
   "id": "eb13d441",
   "metadata": {
    "tags": []
   },
   "outputs": [
    {
     "data": {
      "text/html": [
       "<div>\n",
       "<style scoped>\n",
       "    .dataframe tbody tr th:only-of-type {\n",
       "        vertical-align: middle;\n",
       "    }\n",
       "\n",
       "    .dataframe tbody tr th {\n",
       "        vertical-align: top;\n",
       "    }\n",
       "\n",
       "    .dataframe thead th {\n",
       "        text-align: right;\n",
       "    }\n",
       "</style>\n",
       "<table border=\"1\" class=\"dataframe\">\n",
       "  <thead>\n",
       "    <tr style=\"text-align: right;\">\n",
       "      <th></th>\n",
       "      <th>costs</th>\n",
       "      <th>holidays</th>\n",
       "    </tr>\n",
       "    <tr>\n",
       "      <th>date</th>\n",
       "      <th></th>\n",
       "      <th></th>\n",
       "    </tr>\n",
       "  </thead>\n",
       "  <tbody>\n",
       "    <tr>\n",
       "      <th>2021-07-31 00:00:00+00:00</th>\n",
       "      <td>1854810</td>\n",
       "      <td>2</td>\n",
       "    </tr>\n",
       "    <tr>\n",
       "      <th>2021-08-31 00:00:00+00:00</th>\n",
       "      <td>2949470</td>\n",
       "      <td>2</td>\n",
       "    </tr>\n",
       "    <tr>\n",
       "      <th>2021-09-30 00:00:00+00:00</th>\n",
       "      <td>2449092</td>\n",
       "      <td>0</td>\n",
       "    </tr>\n",
       "    <tr>\n",
       "      <th>2021-10-31 00:00:00+00:00</th>\n",
       "      <td>3269372</td>\n",
       "      <td>1</td>\n",
       "    </tr>\n",
       "    <tr>\n",
       "      <th>2021-11-30 00:00:00+00:00</th>\n",
       "      <td>3143335</td>\n",
       "      <td>2</td>\n",
       "    </tr>\n",
       "  </tbody>\n",
       "</table>\n",
       "</div>"
      ],
      "text/plain": [
       "                             costs  holidays\n",
       "date                                        \n",
       "2021-07-31 00:00:00+00:00  1854810         2\n",
       "2021-08-31 00:00:00+00:00  2949470         2\n",
       "2021-09-30 00:00:00+00:00  2449092         0\n",
       "2021-10-31 00:00:00+00:00  3269372         1\n",
       "2021-11-30 00:00:00+00:00  3143335         2"
      ]
     },
     "execution_count": 22,
     "metadata": {},
     "output_type": "execute_result"
    }
   ],
   "source": [
    "df.head()"
   ]
  },
  {
   "cell_type": "code",
   "execution_count": 23,
   "id": "021872ca",
   "metadata": {
    "tags": []
   },
   "outputs": [],
   "source": [
    "# Crear el datasets\n",
    "directory = path_load + 'processed'\n",
    "file_df_name = '/summaryCosts.csv'\n",
    "df.to_csv(directory+file_df_name,index=False)"
   ]
  },
  {
   "cell_type": "code",
   "execution_count": null,
   "id": "2a8e7164",
   "metadata": {},
   "outputs": [],
   "source": []
  }
 ],
 "metadata": {
  "kernelspec": {
   "display_name": "Python 3 (ipykernel)",
   "language": "python",
   "name": "python3"
  },
  "language_info": {
   "codemirror_mode": {
    "name": "ipython",
    "version": 3
   },
   "file_extension": ".py",
   "mimetype": "text/x-python",
   "name": "python",
   "nbconvert_exporter": "python",
   "pygments_lexer": "ipython3",
   "version": "3.11.3"
  },
  "toc": {
   "base_numbering": 1,
   "nav_menu": {},
   "number_sections": true,
   "sideBar": true,
   "skip_h1_title": false,
   "title_cell": "Table of Contents",
   "title_sidebar": "Contents",
   "toc_cell": false,
   "toc_position": {},
   "toc_section_display": true,
   "toc_window_display": false
  }
 },
 "nbformat": 4,
 "nbformat_minor": 5
}
