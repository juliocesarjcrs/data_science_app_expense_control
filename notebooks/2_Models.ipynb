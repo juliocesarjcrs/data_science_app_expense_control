{
 "cells": [
  {
   "cell_type": "code",
   "execution_count": 1,
   "metadata": {},
   "outputs": [
    {
     "name": "stderr",
     "output_type": "stream",
     "text": [
      "/tmp/ipykernel_38172/208948096.py:7: MatplotlibDeprecationWarning: The seaborn styles shipped by Matplotlib are deprecated since 3.6, as they no longer correspond to the styles shipped by seaborn. However, they will remain available as 'seaborn-v0_8-<style>'. Alternatively, directly use the seaborn API instead.\n",
      "  plt.style.use('seaborn')\n"
     ]
    }
   ],
   "source": [
    "import pandas as pd\n",
    "# plots\n",
    "import matplotlib.pyplot as plt\n",
    "from matplotlib import dates\n",
    "import plotly.express as px\n",
    "# Establecer el estilo de la gráfica\n",
    "plt.style.use('seaborn')\n",
    "# models\n",
    "import statsmodels.api as sm\n",
    "from statsmodels.tsa.seasonal import seasonal_decompose\n",
    "from statsmodels.tsa.stattools import adfuller\n",
    "from pmdarima.arima.utils import ndiffs\n",
    "from statsmodels.tsa.arima.model import ARIMA\n",
    "from statsmodels.graphics.tsaplots import plot_acf, plot_pacf"
   ]
  },
  {
   "attachments": {},
   "cell_type": "markdown",
   "metadata": {},
   "source": [
    "### 1. Leer datos"
   ]
  },
  {
   "cell_type": "code",
   "execution_count": 2,
   "metadata": {},
   "outputs": [
    {
     "data": {
      "text/html": [
       "<div>\n",
       "<style scoped>\n",
       "    .dataframe tbody tr th:only-of-type {\n",
       "        vertical-align: middle;\n",
       "    }\n",
       "\n",
       "    .dataframe tbody tr th {\n",
       "        vertical-align: top;\n",
       "    }\n",
       "\n",
       "    .dataframe thead th {\n",
       "        text-align: right;\n",
       "    }\n",
       "</style>\n",
       "<table border=\"1\" class=\"dataframe\">\n",
       "  <thead>\n",
       "    <tr style=\"text-align: right;\">\n",
       "      <th></th>\n",
       "      <th>cost</th>\n",
       "      <th>holidays_cont</th>\n",
       "      <th>month</th>\n",
       "      <th>year</th>\n",
       "      <th>days_in_month</th>\n",
       "      <th>is_year_start</th>\n",
       "      <th>is_year_end</th>\n",
       "    </tr>\n",
       "    <tr>\n",
       "      <th>date</th>\n",
       "      <th></th>\n",
       "      <th></th>\n",
       "      <th></th>\n",
       "      <th></th>\n",
       "      <th></th>\n",
       "      <th></th>\n",
       "      <th></th>\n",
       "    </tr>\n",
       "  </thead>\n",
       "  <tbody>\n",
       "    <tr>\n",
       "      <th>2019-09-30</th>\n",
       "      <td>1440500</td>\n",
       "      <td>0</td>\n",
       "      <td>9</td>\n",
       "      <td>2019</td>\n",
       "      <td>30</td>\n",
       "      <td>False</td>\n",
       "      <td>0</td>\n",
       "    </tr>\n",
       "    <tr>\n",
       "      <th>2019-10-31</th>\n",
       "      <td>1943400</td>\n",
       "      <td>1</td>\n",
       "      <td>10</td>\n",
       "      <td>2019</td>\n",
       "      <td>31</td>\n",
       "      <td>False</td>\n",
       "      <td>0</td>\n",
       "    </tr>\n",
       "    <tr>\n",
       "      <th>2019-11-30</th>\n",
       "      <td>1437850</td>\n",
       "      <td>2</td>\n",
       "      <td>11</td>\n",
       "      <td>2019</td>\n",
       "      <td>30</td>\n",
       "      <td>False</td>\n",
       "      <td>0</td>\n",
       "    </tr>\n",
       "    <tr>\n",
       "      <th>2019-12-31</th>\n",
       "      <td>1298200</td>\n",
       "      <td>1</td>\n",
       "      <td>12</td>\n",
       "      <td>2019</td>\n",
       "      <td>31</td>\n",
       "      <td>False</td>\n",
       "      <td>1</td>\n",
       "    </tr>\n",
       "    <tr>\n",
       "      <th>2020-01-31</th>\n",
       "      <td>4037250</td>\n",
       "      <td>2</td>\n",
       "      <td>1</td>\n",
       "      <td>2020</td>\n",
       "      <td>31</td>\n",
       "      <td>False</td>\n",
       "      <td>0</td>\n",
       "    </tr>\n",
       "  </tbody>\n",
       "</table>\n",
       "</div>"
      ],
      "text/plain": [
       "               cost  holidays_cont  month  year  days_in_month  is_year_start   \n",
       "date                                                                            \n",
       "2019-09-30  1440500              0      9  2019             30          False  \\\n",
       "2019-10-31  1943400              1     10  2019             31          False   \n",
       "2019-11-30  1437850              2     11  2019             30          False   \n",
       "2019-12-31  1298200              1     12  2019             31          False   \n",
       "2020-01-31  4037250              2      1  2020             31          False   \n",
       "\n",
       "            is_year_end  \n",
       "date                     \n",
       "2019-09-30            0  \n",
       "2019-10-31            0  \n",
       "2019-11-30            0  \n",
       "2019-12-31            1  \n",
       "2020-01-31            0  "
      ]
     },
     "execution_count": 2,
     "metadata": {},
     "output_type": "execute_result"
    }
   ],
   "source": [
    "df = pd.read_csv('../in/preprocess/df_time_monthly', parse_dates=True)\n",
    "df['date'] = pd.to_datetime(df['date'])\n",
    "df['date'] = df['date'].dt.tz_localize(None)\n",
    "df.set_index('date', inplace=True)\n",
    "df.index.freq = 'M'\n",
    "df.shape\n",
    "df.head()"
   ]
  },
  {
   "attachments": {},
   "cell_type": "markdown",
   "metadata": {},
   "source": [
    "### 2.ARIMA 'Promedio Móvil Integrado AutoRegresivo'\n",
    "Cualquier serie de tiempo 'no estacional' que muestre patrones y no sea un ruido blanco aleatorio se puede modelar con modelos ARIMA.\n",
    "Si una serie temporal tiene patrones estacionales, debe agregar términos estacionales y se convierte en SARIMA, abreviatura de 'ARIMA estacional'."
   ]
  },
  {
   "attachments": {},
   "cell_type": "markdown",
   "metadata": {},
   "source": [
    "### 2.1 Realizar una autocorrelación simple y parcial\n",
    "para analizar la correlación entre la serie de tiempo y sus rezagos.\n",
    "En el punto 2.1, elegimos un valor de lags=20 para incluir suficiente información pasada en el modelo VAR, lo que puede mejorar su capacidad para hacer pronósticos precisos. Tener en cuenta que no puede ser mayor al 50 % del tamaño de la muestra. Sin embargo, la elección del valor de lags puede variar dependiendo del conjunto de datos y del contexto del problema en cuestión.\n",
    "\n",
    "Una forma común de seleccionar el valor adecuado de lags es mediante la técnica de \"lag length selection\" o \"selección de longitud de retardo\", que implica probar diferentes valores de lags y seleccionar aquel que proporcione el mejor desempeño del modelo en términos de criterios de información como el AIC (Akaike Information Criterion) o el BIC (Bayesian Information Criterion).\n",
    "\n",
    "El gráfico ACF muestra la autocorrelación de la serie de tiempo con respecto a sus valores anteriores en diferentes retrasos (lags). Cada punto en el gráfico representa el coeficiente de correlación entre los valores de la serie de tiempo en el tiempo actual y el tiempo en el que se está calculando el retraso. Un valor cercano a 1 indica una fuerte autocorrelación positiva, mientras que un valor cercano a -1 indica una fuerte autocorrelación negativa.\n",
    "\n",
    "El gráfico PACF muestra la correlación parcial entre dos puntos en la serie de tiempo, teniendo en cuenta los efectos de los valores intermedios. Es decir, muestra la correlación directa entre dos puntos, después de eliminar la influencia de los valores intermedios"
   ]
  },
  {
   "cell_type": "code",
   "execution_count": 3,
   "metadata": {},
   "outputs": [
    {
     "data": {
      "image/png": "[encoded data removed]",
      "text/plain": [
       "<Figure size 800x550 with 1 Axes>"
      ]
     },
     "metadata": {},
     "output_type": "display_data"
    },
    {
     "data": {
      "image/png": "[encoded data removed]",
      "text/plain": [
       "<Figure size 800x550 with 1 Axes>"
      ]
     },
     "metadata": {},
     "output_type": "display_data"
    }
   ],
   "source": [
    "plot_acf(df['cost'], lags=20)\n",
    "plt.show()\n",
    "\n",
    "plot_pacf(df['cost'], lags=20)\n",
    "plt.show()"
   ]
  },
  {
   "attachments": {},
   "cell_type": "markdown",
   "metadata": {},
   "source": [
    "1 ACF: La gráfica de ACF muestra que hay una correlación significativa entre el costo en un momento dado y los costos en los períodos anteriores. La correlación es alta para los primeros 2-3 lags y luego disminuye gradualmente a medida que aumenta el lag. Esto sugiere que los datos pueden tener una tendencia y/o una estacionalidad.\n",
    "\n",
    "2 PACF: La gráfica de PACF muestra una fuerte correlación en el primer lag y luego una disminución gradual en la correlación a medida que aumenta el lag. Esto sugiere que hay una tendencia lineal en los datos.\n",
    "\n",
    "En general, estas gráficas sugieren que tus datos pueden tener una estructura de serie de tiempo con una tendencia y/o una estacionalidad. Sería útil explorar más a fondo estas características de tus datos para modelarlos y predecir futuros valores"
   ]
  },
  {
   "attachments": {},
   "cell_type": "markdown",
   "metadata": {},
   "source": [
    "### 2.1.2 Cómo encontrar el orden del término AR (p)\n",
    "El siguiente paso es identificar si el modelo necesita algún término AR. Puede averiguar el número necesario de términos AR inspeccionando el gráfico de autocorrelación parcial (PACF).\n",
    "Puede observar que el PACF lag 1 es bastante significativo ya que está muy por encima de la línea de significación. El retraso 2 también resulta ser significativo, logrando cruzar ligeramente el límite de significación (región azul). Pero voy a ser conservador y tentativamente fijar la **p como 1**.\n",
    "\n"
   ]
  },
  {
   "attachments": {},
   "cell_type": "markdown",
   "metadata": {},
   "source": [
    "### 2.1.3 Cómo encontrar el orden del término MA (q)\n",
    "Al igual que observamos el gráfico PACF para el número de términos AR, puede consultar el gráfico ACF para el número de términos MA. Un término MA es técnicamente el error del pronóstico retrasado. En el caso anterior de **q =2 a 3** lags"
   ]
  },
  {
   "attachments": {},
   "cell_type": "markdown",
   "metadata": {},
   "source": [
    "***encontrar orden de diferenciación***"
   ]
  },
  {
   "cell_type": "code",
   "execution_count": 4,
   "metadata": {},
   "outputs": [
    {
     "data": {
      "text/plain": [
       "1"
      ]
     },
     "execution_count": 4,
     "metadata": {},
     "output_type": "execute_result"
    }
   ],
   "source": [
    "kpss_diffs = ndiffs(df['cost'], alpha=0.05, test='kpss', max_d=6)\n",
    "adf_diffs = ndiffs(df['cost'], alpha=0.05, test='adf', max_d=6)\n",
    "n_diffs = max(adf_diffs, kpss_diffs)\n",
    "n_diffs"
   ]
  },
  {
   "cell_type": "code",
   "execution_count": 5,
   "metadata": {},
   "outputs": [
    {
     "data": {
      "image/png": "[encoded data removed]",
      "text/plain": [
       "<Figure size 800x550 with 1 Axes>"
      ]
     },
     "metadata": {},
     "output_type": "display_data"
    },
    {
     "name": "stdout",
     "output_type": "stream",
     "text": [
      "                               SARIMAX Results                                \n",
      "==============================================================================\n",
      "Dep. Variable:                   cost   No. Observations:                   43\n",
      "Model:                 ARIMA(0, 1, 1)   Log Likelihood                -631.490\n",
      "Date:                Tue, 09 May 2023   AIC                           1266.980\n",
      "Time:                        15:02:31   BIC                           1270.455\n",
      "Sample:                    09-30-2019   HQIC                          1268.253\n",
      "                         - 03-31-2023                                         \n",
      "Covariance Type:                  opg                                         \n",
      "==============================================================================\n",
      "                 coef    std err          z      P>|z|      [0.025      0.975]\n",
      "------------------------------------------------------------------------------\n",
      "ma.L1         -0.4843      0.097     -4.978      0.000      -0.675      -0.294\n",
      "sigma2      5.166e+11   2.26e-14   2.29e+25      0.000    5.17e+11    5.17e+11\n",
      "===================================================================================\n",
      "Ljung-Box (L1) (Q):                   0.02   Jarque-Bera (JB):                 4.80\n",
      "Prob(Q):                              0.90   Prob(JB):                         0.09\n",
      "Heteroskedasticity (H):               0.78   Skew:                             0.41\n",
      "Prob(H) (two-sided):                  0.64   Kurtosis:                         4.44\n",
      "===================================================================================\n",
      "\n",
      "Warnings:\n",
      "[1] Covariance matrix calculated using the outer product of gradients (complex-step).\n",
      "[2] Covariance matrix is singular or near-singular, with condition number 2.97e+41. Standard errors may be unstable.\n"
     ]
    }
   ],
   "source": [
    "model_order = (0,1,1) # reemplazar con los valores obtenidos en el punto 2.1.2 y 2.1.3 p, d q\n",
    "\n",
    "# ajustar el modelo\n",
    "model = ARIMA(df['cost'], order=model_order)\n",
    "model_fit = model.fit()\n",
    "\n",
    "# predecir valores futuros\n",
    "forecast = model_fit.forecast(steps=12)\n",
    "\n",
    "# graficar resultados\n",
    "plt.plot(df['cost'])\n",
    "plt.plot(model_fit.fittedvalues, color='red')\n",
    "plt.plot(forecast, color='green')\n",
    "plt.legend(['Datos originales', 'Valores ajustados', 'Pronóstico'])\n",
    "plt.show()\n",
    "print(model_fit.summary())"
   ]
  },
  {
   "attachments": {},
   "cell_type": "markdown",
   "metadata": {},
   "source": [
    "### 2.1.5 Cómo hacer Auto Arima Forecast en Python"
   ]
  },
  {
   "cell_type": "code",
   "execution_count": 6,
   "metadata": {},
   "outputs": [
    {
     "name": "stdout",
     "output_type": "stream",
     "text": [
      "Performing stepwise search to minimize aic\n",
      " ARIMA(1,1,1)(0,0,0)[0] intercept   : AIC=1269.939, Time=0.03 sec\n",
      " ARIMA(0,1,0)(0,0,0)[0] intercept   : AIC=1273.736, Time=0.01 sec\n",
      " ARIMA(1,1,0)(0,0,0)[0] intercept   : AIC=1269.527, Time=0.01 sec\n",
      " ARIMA(0,1,1)(0,0,0)[0] intercept   : AIC=1268.397, Time=0.02 sec\n",
      " ARIMA(0,1,0)(0,0,0)[0]             : AIC=1271.810, Time=0.01 sec\n",
      " ARIMA(0,1,2)(0,0,0)[0] intercept   : AIC=1272.828, Time=0.04 sec\n",
      " ARIMA(1,1,2)(0,0,0)[0] intercept   : AIC=inf, Time=0.07 sec\n",
      " ARIMA(0,1,1)(0,0,0)[0]             : AIC=1266.980, Time=0.01 sec\n",
      " ARIMA(1,1,1)(0,0,0)[0]             : AIC=1268.760, Time=0.01 sec\n",
      " ARIMA(0,1,2)(0,0,0)[0]             : AIC=1271.624, Time=0.01 sec\n",
      " ARIMA(1,1,0)(0,0,0)[0]             : AIC=1267.689, Time=0.01 sec\n",
      " ARIMA(1,1,2)(0,0,0)[0]             : AIC=1273.379, Time=0.05 sec\n",
      "\n",
      "Best model:  ARIMA(0,1,1)(0,0,0)[0]          \n",
      "Total fit time: 0.298 seconds\n",
      "                               SARIMAX Results                                \n",
      "==============================================================================\n",
      "Dep. Variable:                      y   No. Observations:                   43\n",
      "Model:               SARIMAX(0, 1, 1)   Log Likelihood                -631.490\n",
      "Date:                Tue, 09 May 2023   AIC                           1266.980\n",
      "Time:                        15:03:08   BIC                           1270.455\n",
      "Sample:                    09-30-2019   HQIC                          1268.253\n",
      "                         - 03-31-2023                                         \n",
      "Covariance Type:                  opg                                         \n",
      "==============================================================================\n",
      "                 coef    std err          z      P>|z|      [0.025      0.975]\n",
      "------------------------------------------------------------------------------\n",
      "ma.L1         -0.4843      0.097     -4.978      0.000      -0.675      -0.294\n",
      "sigma2      5.166e+11   2.26e-14   2.29e+25      0.000    5.17e+11    5.17e+11\n",
      "===================================================================================\n",
      "Ljung-Box (L1) (Q):                   0.02   Jarque-Bera (JB):                 4.80\n",
      "Prob(Q):                              0.90   Prob(JB):                         0.09\n",
      "Heteroskedasticity (H):               0.78   Skew:                             0.41\n",
      "Prob(H) (two-sided):                  0.64   Kurtosis:                         4.44\n",
      "===================================================================================\n",
      "\n",
      "Warnings:\n",
      "[1] Covariance matrix calculated using the outer product of gradients (complex-step).\n",
      "[2] Covariance matrix is singular or near-singular, with condition number 2.97e+41. Standard errors may be unstable.\n"
     ]
    }
   ],
   "source": [
    "\n",
    "import pmdarima as pm\n",
    "\n",
    "model = pm.auto_arima(df['cost'], start_p=1, start_q=1,\n",
    "                      test='adf',       # use adftest to find optimal 'd'\n",
    "                      max_p=3, max_q=3, # maximum p and q\n",
    "                      m=1,              # frequency of series\n",
    "                      d=None,           # let model determine 'd'\n",
    "                      seasonal=False,   # No Seasonality\n",
    "                      start_P=0, \n",
    "                      D=0, \n",
    "                      trace=True,\n",
    "                      error_action='ignore',  \n",
    "                      suppress_warnings=True, \n",
    "                      stepwise=True)\n",
    "\n",
    "print(model.summary())"
   ]
  },
  {
   "attachments": {},
   "cell_type": "markdown",
   "metadata": {},
   "source": [
    "### 3 sarimax"
   ]
  },
  {
   "attachments": {},
   "cell_type": "markdown",
   "metadata": {},
   "source": [
    "Cómo construir automáticamente el modelo SARIMA en python"
   ]
  },
  {
   "cell_type": "code",
   "execution_count": 4,
   "metadata": {},
   "outputs": [],
   "source": [
    "#handle error\n",
    "from sklearn.metrics import mean_squared_error, mean_absolute_error, mean_absolute_percentage_error\n",
    "from pmdarima.metrics import smape\n",
    "# handle time\n",
    "import locale\n",
    "locale.setlocale(locale.LC_MONETARY, 'es_CO.UTF-8')\n",
    "def metrict_error(y_true, y_pred):\n",
    "    print('------ Métricas dependientes de la escala  --------')\n",
    "    MAE = mean_absolute_error(y_true, y_pred)\n",
    "    print('Error MAE    : ',  locale.currency(MAE, grouping=True))\n",
    "    print('Error MSE    : ',mean_squared_error(y_true, y_pred))\n",
    "    RMSE = mean_squared_error(y_true, y_pred, squared=False)\n",
    "    print('Error RMSE   : ', locale.currency(RMSE, grouping=True))\n",
    "\n",
    "    print('------ Métricas de porcentaje de error  --------')\n",
    "    print('Error MAPE    : ',round(mean_absolute_percentage_error(y_true, y_pred) *100, 1), '%')\n",
    "    print(f\"SMAPE        : {round(smape(y_true, y_pred),2)}\")\n",
    "\n",
    "\n",
    "def train_test_time_series(ts):\n",
    "    # Train Test Split Index\n",
    "    train_size = 0.8\n",
    "    split_idx = round(len(ts)* train_size)\n",
    "    split_idx\n",
    "\n",
    "    # Split\n",
    "    train = ts.iloc[:split_idx]\n",
    "    test = ts.iloc[split_idx:]\n",
    "\n",
    "    # Visualize split\n",
    "    # fig,ax= plt.subplots(figsize=(12,8))\n",
    "    # kws = dict(marker='o')\n",
    "    # plt.plot(train, label='Train', **kws)\n",
    "    # plt.plot(test, label='Test', **kws)\n",
    "    # ax.legend(bbox_to_anchor=[1,1]);\n",
    "    return train, test\n",
    "def plot_predict(train, test, forecast):\n",
    "    train_plot = train\n",
    "    train_plot['type'] = 'train'\n",
    "    test_plot = test\n",
    "    test_plot['type'] = 'test'\n",
    "    forecast_plot = forecast\n",
    "    forecast_plot['type'] = 'predict'\n",
    "    forecast_plot = pd.concat([test_plot, train_plot, forecast_plot ],ignore_index=True)\n",
    "    forecast_plot\n",
    "    fig = px.line(forecast_plot, x='date', y=\"value\", color=\"type\",hover_data={\"date\": \"|%B %d, %Y\"}, title='Resultados de la predicción')\n",
    "    fig.show()\n",
    "    return forecast_plot\n",
    "\n",
    "def precict_transform(model, train, test, y_col, period_test, is_diff=False, exogen_labels=[]):\n",
    "    end = len(train) + len(test)\n",
    "    exogx = train[exogen_labels]\n",
    "    exogx_test = test[exogen_labels]\n",
    "    has_exogen = bool(len(exogx) and len(exogx_test))\n",
    "\n",
    "    if has_exogen:\n",
    "        print('Aplica variables exógenas')\n",
    "        forecast, conf_int = model.predict(n_periods=period_test, exogenous=exogx_test, return_conf_int=True)\n",
    "    else:\n",
    "        forecast, conf_int = model.predict(n_periods=period_test, return_conf_int=True)\n",
    "\n",
    "    index_of_fc = pd.date_range(test.index[0], periods = period_test, freq='M')\n",
    "\n",
    "    if is_diff:\n",
    "        df_auto_pred = pd.DataFrame(forecast, columns=['value'])\n",
    "        last_original_train = train.iloc[-1][y_col]# último dato antes diferenciar\n",
    "        df_forescast = last_original_train + df_auto_pred.cumsum()\n",
    "        df_forescast = df_forescast.set_index(index_of_fc)\n",
    "        plot_predi = pd.DataFrame(data= {'value': df_forescast['value'], 'date': df_forescast.index})\n",
    "        # d = {'lower': lower_series, 'upper': upper_series, 'pred':df_forescast[['value']]}\n",
    "        # pred_df = pd.DataFrame(data=d)\n",
    "    else:\n",
    "        # make series for plotting purpose\n",
    "        fitted_series = pd.Series(forecast, index=index_of_fc)\n",
    "        lower_series = pd.Series(conf_int[:, 0], index=index_of_fc)\n",
    "        upper_series = pd.Series(conf_int[:, 1], index=index_of_fc)\n",
    "        d = {'lower': lower_series, 'upper': upper_series, 'pred':forecast}\n",
    "        pred_df = pd.DataFrame(data=d)\n",
    "        plot_predi = pd.DataFrame(data= {'value': pred_df['pred'], 'date': pred_df.index})\n",
    "\n",
    "\n",
    "\n",
    "\n",
    "    plot_train = pd.DataFrame(data= {'value': train[y_col], 'date': train.index})\n",
    "    plot_test = pd.DataFrame(data= {'value': test[y_col], 'date': test.index})\n",
    "\n",
    "    metrict_error( test[y_col], plot_predi['value'] )\n",
    "    forecast_plot = plot_predict(plot_train, plot_test, plot_predi)\n",
    "    return forecast_plot\n",
    "def precict_transform_2(model, train, test, y_col, var_exoge):\n",
    "    end = len(train) + len(test)\n",
    "    exogenus = test[var_exoge]\n",
    "    forecast = model.predict(start=len(train), end=end-1, exog=exogenus)\n",
    "    index_of_fc = pd.date_range(test.index[0], periods = len(forecast), freq='M')\n",
    "    print('LEN index_of_fc:', len(index_of_fc))\n",
    "    print('LEN forecast:', len(forecast))\n",
    "\n",
    "        # make series for plotting purpose\n",
    "    fitted_series = pd.Series(forecast, index=index_of_fc)\n",
    "    # lower_series = pd.Series(conf_int[:, 0], index=index_of_fc)\n",
    "    # upper_series = pd.Series(conf_int[:, 1], index=index_of_fc)\n",
    "\n",
    "    d = {'pred':forecast}\n",
    "    pred_df = pd.DataFrame(data=d)\n",
    "    plot_train = pd.DataFrame(data= {'value': train[y_col], 'date': train.index})\n",
    "    plot_test = pd.DataFrame(data= {'value': test[y_col], 'date': test.index})\n",
    "    plot_predi = pd.DataFrame(data= {'value': pred_df['pred'], 'date': pred_df.index})\n",
    "    print('--- ------- -------- -------------')\n",
    "    print('TEST: ', test[y_col].shape)\n",
    "    print('PRED: ', pred_df['pred'].shape)\n",
    "    metrict_error( test[y_col], pred_df['pred'] )\n",
    "    # print('Error MSE    : ',mean_squared_error(test[y_col],pred_df['pred']))\n",
    "    # print('Error MAE   : ',mean_absolute_error(test[y_col],pred_df['pred']))\n",
    "    forecast_plot = plot_predict(plot_train, plot_test, plot_predi)\n",
    "    return forecast_plot"
   ]
  },
  {
   "cell_type": "code",
   "execution_count": 5,
   "metadata": {},
   "outputs": [],
   "source": [
    "train, test = train_test_time_series(df)"
   ]
  },
  {
   "cell_type": "code",
   "execution_count": 37,
   "metadata": {},
   "outputs": [
    {
     "name": "stdout",
     "output_type": "stream",
     "text": [
      "Performing stepwise search to minimize aic\n",
      " ARIMA(1,2,1)(0,1,1)[12]             : AIC=613.902, Time=0.08 sec\n",
      " ARIMA(0,2,0)(0,1,0)[12]             : AIC=644.062, Time=0.01 sec\n",
      " ARIMA(1,2,0)(1,1,0)[12]             : AIC=626.666, Time=0.05 sec\n",
      " ARIMA(0,2,1)(0,1,1)[12]             : AIC=615.872, Time=0.07 sec\n",
      " ARIMA(1,2,1)(0,1,0)[12]             : AIC=inf, Time=0.06 sec\n",
      " ARIMA(1,2,1)(1,1,1)[12]             : AIC=615.489, Time=0.21 sec\n",
      " ARIMA(1,2,1)(0,1,2)[12]             : AIC=615.411, Time=0.13 sec\n",
      " ARIMA(1,2,1)(1,1,0)[12]             : AIC=614.238, Time=0.07 sec\n",
      " ARIMA(1,2,1)(1,1,2)[12]             : AIC=617.397, Time=0.28 sec\n",
      " ARIMA(1,2,0)(0,1,1)[12]             : AIC=626.781, Time=0.04 sec\n",
      " ARIMA(2,2,1)(0,1,1)[12]             : AIC=614.853, Time=0.07 sec\n",
      " ARIMA(1,2,2)(0,1,1)[12]             : AIC=613.345, Time=0.08 sec\n",
      " ARIMA(1,2,2)(0,1,0)[12]             : AIC=inf, Time=0.09 sec\n",
      " ARIMA(1,2,2)(1,1,1)[12]             : AIC=614.920, Time=0.15 sec\n",
      " ARIMA(1,2,2)(0,1,2)[12]             : AIC=614.817, Time=0.19 sec\n",
      " ARIMA(1,2,2)(1,1,0)[12]             : AIC=614.091, Time=0.10 sec\n",
      " ARIMA(1,2,2)(1,1,2)[12]             : AIC=616.776, Time=0.31 sec\n",
      " ARIMA(0,2,2)(0,1,1)[12]             : AIC=611.413, Time=0.08 sec\n",
      " ARIMA(0,2,2)(0,1,0)[12]             : AIC=inf, Time=0.06 sec\n",
      " ARIMA(0,2,2)(1,1,1)[12]             : AIC=612.991, Time=0.12 sec\n",
      " ARIMA(0,2,2)(0,1,2)[12]             : AIC=612.900, Time=0.13 sec\n",
      " ARIMA(0,2,2)(1,1,0)[12]             : AIC=612.096, Time=0.21 sec\n",
      " ARIMA(0,2,2)(1,1,2)[12]             : AIC=614.867, Time=0.28 sec\n",
      " ARIMA(0,2,3)(0,1,1)[12]             : AIC=614.315, Time=0.08 sec\n",
      " ARIMA(1,2,3)(0,1,1)[12]             : AIC=614.966, Time=0.20 sec\n",
      " ARIMA(0,2,2)(0,1,1)[12] intercept   : AIC=inf, Time=0.09 sec\n",
      "\n",
      "Best model:  ARIMA(0,2,2)(0,1,1)[12]          \n",
      "Total fit time: 3.260 seconds\n"
     ]
    },
    {
     "data": {
      "text/html": [
       "<table class=\"simpletable\">\n",
       "<caption>SARIMAX Results</caption>\n",
       "<tr>\n",
       "  <th>Dep. Variable:</th>                   <td>y</td>                <th>  No. Observations:  </th>    <td>34</td>   \n",
       "</tr>\n",
       "<tr>\n",
       "  <th>Model:</th>           <td>SARIMAX(0, 2, 2)x(0, 1, [1], 12)</td> <th>  Log Likelihood     </th> <td>-301.706</td>\n",
       "</tr>\n",
       "<tr>\n",
       "  <th>Date:</th>                    <td>Fri, 05 May 2023</td>         <th>  AIC                </th>  <td>611.413</td>\n",
       "</tr>\n",
       "<tr>\n",
       "  <th>Time:</th>                        <td>08:30:28</td>             <th>  BIC                </th>  <td>615.396</td>\n",
       "</tr>\n",
       "<tr>\n",
       "  <th>Sample:</th>                     <td>09-30-2019</td>            <th>  HQIC               </th>  <td>612.190</td>\n",
       "</tr>\n",
       "<tr>\n",
       "  <th></th>                           <td>- 06-30-2022</td>           <th>                     </th>     <td> </td>   \n",
       "</tr>\n",
       "<tr>\n",
       "  <th>Covariance Type:</th>                <td>opg</td>               <th>                     </th>     <td> </td>   \n",
       "</tr>\n",
       "</table>\n",
       "<table class=\"simpletable\">\n",
       "<tr>\n",
       "      <td></td>        <th>coef</th>     <th>std err</th>      <th>z</th>      <th>P>|z|</th>  <th>[0.025</th>    <th>0.975]</th>  \n",
       "</tr>\n",
       "<tr>\n",
       "  <th>ma.L1</th>    <td>   -1.5194</td> <td>    0.399</td> <td>   -3.807</td> <td> 0.000</td> <td>   -2.302</td> <td>   -0.737</td>\n",
       "</tr>\n",
       "<tr>\n",
       "  <th>ma.L2</th>    <td>    0.5383</td> <td>    0.284</td> <td>    1.894</td> <td> 0.058</td> <td>   -0.019</td> <td>    1.096</td>\n",
       "</tr>\n",
       "<tr>\n",
       "  <th>ma.S.L12</th> <td>   -0.6972</td> <td>    0.544</td> <td>   -1.282</td> <td> 0.200</td> <td>   -1.763</td> <td>    0.369</td>\n",
       "</tr>\n",
       "<tr>\n",
       "  <th>sigma2</th>   <td> 8.236e+11</td> <td> 3.35e-13</td> <td> 2.46e+24</td> <td> 0.000</td> <td> 8.24e+11</td> <td> 8.24e+11</td>\n",
       "</tr>\n",
       "</table>\n",
       "<table class=\"simpletable\">\n",
       "<tr>\n",
       "  <th>Ljung-Box (L1) (Q):</th>     <td>0.00</td> <th>  Jarque-Bera (JB):  </th> <td>1.40</td> \n",
       "</tr>\n",
       "<tr>\n",
       "  <th>Prob(Q):</th>                <td>0.99</td> <th>  Prob(JB):          </th> <td>0.50</td> \n",
       "</tr>\n",
       "<tr>\n",
       "  <th>Heteroskedasticity (H):</th> <td>0.94</td> <th>  Skew:              </th> <td>-0.60</td>\n",
       "</tr>\n",
       "<tr>\n",
       "  <th>Prob(H) (two-sided):</th>    <td>0.94</td> <th>  Kurtosis:          </th> <td>2.50</td> \n",
       "</tr>\n",
       "</table><br/><br/>Warnings:<br/>[1] Covariance matrix calculated using the outer product of gradients (complex-step).<br/>[2] Covariance matrix is singular or near-singular, with condition number 4.83e+40. Standard errors may be unstable."
      ],
      "text/plain": [
       "<class 'statsmodels.iolib.summary.Summary'>\n",
       "\"\"\"\n",
       "                                      SARIMAX Results                                       \n",
       "============================================================================================\n",
       "Dep. Variable:                                    y   No. Observations:                   34\n",
       "Model:             SARIMAX(0, 2, 2)x(0, 1, [1], 12)   Log Likelihood                -301.706\n",
       "Date:                              Fri, 05 May 2023   AIC                            611.413\n",
       "Time:                                      08:30:28   BIC                            615.396\n",
       "Sample:                                  09-30-2019   HQIC                           612.190\n",
       "                                       - 06-30-2022                                         \n",
       "Covariance Type:                                opg                                         \n",
       "==============================================================================\n",
       "                 coef    std err          z      P>|z|      [0.025      0.975]\n",
       "------------------------------------------------------------------------------\n",
       "ma.L1         -1.5194      0.399     -3.807      0.000      -2.302      -0.737\n",
       "ma.L2          0.5383      0.284      1.894      0.058      -0.019       1.096\n",
       "ma.S.L12      -0.6972      0.544     -1.282      0.200      -1.763       0.369\n",
       "sigma2      8.236e+11   3.35e-13   2.46e+24      0.000    8.24e+11    8.24e+11\n",
       "===================================================================================\n",
       "Ljung-Box (L1) (Q):                   0.00   Jarque-Bera (JB):                 1.40\n",
       "Prob(Q):                              0.99   Prob(JB):                         0.50\n",
       "Heteroskedasticity (H):               0.94   Skew:                            -0.60\n",
       "Prob(H) (two-sided):                  0.94   Kurtosis:                         2.50\n",
       "===================================================================================\n",
       "\n",
       "Warnings:\n",
       "[1] Covariance matrix calculated using the outer product of gradients (complex-step).\n",
       "[2] Covariance matrix is singular or near-singular, with condition number 4.83e+40. Standard errors may be unstable.\n",
       "\"\"\""
      ]
     },
     "execution_count": 37,
     "metadata": {},
     "output_type": "execute_result"
    }
   ],
   "source": [
    "# Seasonal - fit stepwise auto-ARIMA\n",
    "smodel = pm.auto_arima(train['cost'], start_p=1, start_q=1,\n",
    "                         test='adf',\n",
    "                         max_p=3, max_q=3, m=12,\n",
    "                         start_P=0, seasonal=True,\n",
    "                         d=None, D=1, trace=True,\n",
    "                         error_action='ignore',\n",
    "                         suppress_warnings=True,\n",
    "                         stepwise=True)\n",
    "\n",
    "smodel.summary()"
   ]
  },
  {
   "cell_type": "code",
   "execution_count": 10,
   "metadata": {},
   "outputs": [
    {
     "name": "stderr",
     "output_type": "stream",
     "text": [
      "/home/bitsamericas/Documents/5-cursos/11-Platzi/platzi-curso-Machine-Learning-con-Scikit-Learn/entorno/lib/python3.9/site-packages/statsmodels/tsa/statespace/sarimax.py:866: UserWarning:\n",
      "\n",
      "Too few observations to estimate starting parameters for seasonal ARMA. All parameters except for variances will be set to zeros.\n",
      "\n",
      " This problem is unconstrained.\n"
     ]
    },
    {
     "name": "stdout",
     "output_type": "stream",
     "text": [
      "RUNNING THE L-BFGS-B CODE\n",
      "\n",
      "           * * *\n",
      "\n",
      "Machine precision = 2.220D-16\n",
      " N =            6     M =           10\n",
      "\n",
      "At X0         0 variables are exactly at the bounds\n",
      "\n",
      "At iterate    0    f=  9.30343D+00    |proj g|=  1.94406D+00\n",
      "\n",
      "At iterate    5    f=  9.07846D+00    |proj g|=  8.61644D-03\n",
      "\n",
      "At iterate   10    f=  9.07826D+00    |proj g|=  8.57371D-02\n",
      "\n",
      "At iterate   15    f=  9.07522D+00    |proj g|=  6.21550D-02\n",
      "\n",
      "At iterate   20    f=  9.07498D+00    |proj g|=  3.33154D-03\n",
      "\n",
      "At iterate   25    f=  9.07494D+00    |proj g|=  9.33424D-02\n",
      "\n",
      "At iterate   30    f=  9.07392D+00    |proj g|=  1.49571D-01\n",
      "\n",
      "At iterate   35    f=  9.07249D+00    |proj g|=  3.43422D-01\n",
      "\n",
      "At iterate   40    f=  9.06990D+00    |proj g|=  2.92811D-02\n",
      "\n",
      "At iterate   45    f=  9.06965D+00    |proj g|=  7.40801D-03\n",
      "\n",
      "At iterate   50    f=  9.06958D+00    |proj g|=  2.23373D-03\n",
      "\n",
      "           * * *\n",
      "\n",
      "Tit   = total number of iterations\n",
      "Tnf   = total number of function evaluations\n",
      "Tnint = total number of segments explored during Cauchy searches\n",
      "Skip  = number of BFGS updates skipped\n",
      "Nact  = number of active bounds at final generalized Cauchy point\n",
      "Projg = norm of the final projected gradient\n",
      "F     = final function value\n",
      "\n",
      "           * * *\n",
      "\n",
      "   N    Tit     Tnf  Tnint  Skip  Nact     Projg        F\n",
      "    6     50     60      1     0     0   2.234D-03   9.070D+00\n",
      "  F =   9.0695808864391978     \n",
      "\n",
      "STOP: TOTAL NO. of ITERATIONS REACHED LIMIT                 \n",
      "LEN index_of_fc: 9\n",
      "LEN forecast: 9\n",
      "--- ------- -------- -------------\n",
      "TEST:  (9,)\n",
      "PRED:  (9,)\n",
      "------ Métricas dependientes de la escala  --------\n",
      "Error MAE    :  $ 1.851.391,48\n",
      "Error MSE    :  4705660062318.59\n",
      "Error RMSE   :  $ 2.169.253,34\n",
      "------ Métricas de porcentaje de error  --------\n",
      "Error MAPE    :  60.1 %\n",
      "SMAPE        : 42.02\n"
     ]
    },
    {
     "name": "stderr",
     "output_type": "stream",
     "text": [
      "/home/bitsamericas/Documents/5-cursos/11-Platzi/platzi-curso-Machine-Learning-con-Scikit-Learn/entorno/lib/python3.9/site-packages/statsmodels/base/model.py:604: ConvergenceWarning:\n",
      "\n",
      "Maximum Likelihood optimization failed to converge. Check mle_retvals\n",
      "\n"
     ]
    },
    {
     "data": {
      "application/vnd.plotly.v1+json": {
       "config": {
        "plotlyServerURL": "https://plot.ly"
       },
       "data": [
        {
         "hovertemplate": "type=test<br>date=%{x|%B %d, %Y}<br>value=%{y}<extra></extra>",
         "legendgroup": "test",
         "line": {
          "color": "#636efa",
          "dash": "solid"
         },
         "marker": {
          "symbol": "circle"
         },
         "mode": "lines",
         "name": "test",
         "orientation": "v",
         "showlegend": true,
         "type": "scatter",
         "x": [
          "2022-07-31T00:00:00",
          "2022-08-31T00:00:00",
          "2022-09-30T00:00:00",
          "2022-10-31T00:00:00",
          "2022-11-30T00:00:00",
          "2022-12-31T00:00:00",
          "2023-01-31T00:00:00",
          "2023-02-28T00:00:00",
          "2023-03-31T00:00:00"
         ],
         "xaxis": "x",
         "y": [
          3511116,
          3591612,
          4082624,
          5296946,
          4466767,
          2901875,
          2962677,
          2505194,
          2882122
         ],
         "yaxis": "y"
        },
        {
         "hovertemplate": "type=train<br>date=%{x|%B %d, %Y}<br>value=%{y}<extra></extra>",
         "legendgroup": "train",
         "line": {
          "color": "#EF553B",
          "dash": "solid"
         },
         "marker": {
          "symbol": "circle"
         },
         "mode": "lines",
         "name": "train",
         "orientation": "v",
         "showlegend": true,
         "type": "scatter",
         "x": [
          "2019-09-30T00:00:00",
          "2019-10-31T00:00:00",
          "2019-11-30T00:00:00",
          "2019-12-31T00:00:00",
          "2020-01-31T00:00:00",
          "2020-02-29T00:00:00",
          "2020-03-31T00:00:00",
          "2020-04-30T00:00:00",
          "2020-05-31T00:00:00",
          "2020-06-30T00:00:00",
          "2020-07-31T00:00:00",
          "2020-08-31T00:00:00",
          "2020-09-30T00:00:00",
          "2020-10-31T00:00:00",
          "2020-11-30T00:00:00",
          "2020-12-31T00:00:00",
          "2021-01-31T00:00:00",
          "2021-02-28T00:00:00",
          "2021-03-31T00:00:00",
          "2021-04-30T00:00:00",
          "2021-05-31T00:00:00",
          "2021-06-30T00:00:00",
          "2021-07-31T00:00:00",
          "2021-08-31T00:00:00",
          "2021-09-30T00:00:00",
          "2021-10-31T00:00:00",
          "2021-11-30T00:00:00",
          "2021-12-31T00:00:00",
          "2022-01-31T00:00:00",
          "2022-02-28T00:00:00",
          "2022-03-31T00:00:00",
          "2022-04-30T00:00:00",
          "2022-05-31T00:00:00",
          "2022-06-30T00:00:00"
         ],
         "xaxis": "x",
         "y": [
          1440500,
          1943400,
          1437850,
          1298200,
          4037250,
          1089346,
          1426000,
          645200,
          778000,
          872971,
          729500,
          822100,
          1328400,
          903750,
          1296050,
          1124900,
          965000,
          1452000,
          2208550,
          1504800,
          2077950,
          2209200,
          1854810,
          2949470,
          2449092,
          3269372,
          3143335,
          4119692,
          3121610,
          2049788,
          2947435,
          2756124,
          3475179,
          4345208
         ],
         "yaxis": "y"
        },
        {
         "hovertemplate": "type=predict<br>date=%{x|%B %d, %Y}<br>value=%{y}<extra></extra>",
         "legendgroup": "predict",
         "line": {
          "color": "#00cc96",
          "dash": "solid"
         },
         "marker": {
          "symbol": "circle"
         },
         "mode": "lines",
         "name": "predict",
         "orientation": "v",
         "showlegend": true,
         "type": "scatter",
         "x": [
          "2022-07-31T00:00:00",
          "2022-08-31T00:00:00",
          "2022-09-30T00:00:00",
          "2022-10-31T00:00:00",
          "2022-11-30T00:00:00",
          "2022-12-31T00:00:00",
          "2023-01-31T00:00:00",
          "2023-02-28T00:00:00",
          "2023-03-31T00:00:00"
         ],
         "xaxis": "x",
         "y": [
          4095829.362386465,
          5274412.644153215,
          4848295.947435856,
          5761864.039211921,
          5700246.355345771,
          6768191.46677766,
          5830356.561337061,
          4805960.448447891,
          5778299.457325868
         ],
         "yaxis": "y"
        }
       ],
       "layout": {
        "legend": {
         "title": {
          "text": "type"
         },
         "tracegroupgap": 0
        },
        "template": {
         "data": {
          "bar": [
           {
            "error_x": {
             "color": "#2a3f5f"
            },
            "error_y": {
             "color": "#2a3f5f"
            },
            "marker": {
             "line": {
              "color": "#E5ECF6",
              "width": 0.5
             },
             "pattern": {
              "fillmode": "overlay",
              "size": 10,
              "solidity": 0.2
             }
            },
            "type": "bar"
           }
          ],
          "barpolar": [
           {
            "marker": {
             "line": {
              "color": "#E5ECF6",
              "width": 0.5
             },
             "pattern": {
              "fillmode": "overlay",
              "size": 10,
              "solidity": 0.2
             }
            },
            "type": "barpolar"
           }
          ],
          "carpet": [
           {
            "aaxis": {
             "endlinecolor": "#2a3f5f",
             "gridcolor": "white",
             "linecolor": "white",
             "minorgridcolor": "white",
             "startlinecolor": "#2a3f5f"
            },
            "baxis": {
             "endlinecolor": "#2a3f5f",
             "gridcolor": "white",
             "linecolor": "white",
             "minorgridcolor": "white",
             "startlinecolor": "#2a3f5f"
            },
            "type": "carpet"
           }
          ],
          "choropleth": [
           {
            "colorbar": {
             "outlinewidth": 0,
             "ticks": ""
            },
            "type": "choropleth"
           }
          ],
          "contour": [
           {
            "colorbar": {
             "outlinewidth": 0,
             "ticks": ""
            },
            "colorscale": [
             [
              0,
              "#0d0887"
             ],
             [
              0.1111111111111111,
              "#46039f"
             ],
             [
              0.2222222222222222,
              "#7201a8"
             ],
             [
              0.3333333333333333,
              "#9c179e"
             ],
             [
              0.4444444444444444,
              "#bd3786"
             ],
             [
              0.5555555555555556,
              "#d8576b"
             ],
             [
              0.6666666666666666,
              "#ed7953"
             ],
             [
              0.7777777777777778,
              "#fb9f3a"
             ],
             [
              0.8888888888888888,
              "#fdca26"
             ],
             [
              1,
              "#f0f921"
             ]
            ],
            "type": "contour"
           }
          ],
          "contourcarpet": [
           {
            "colorbar": {
             "outlinewidth": 0,
             "ticks": ""
            },
            "type": "contourcarpet"
           }
          ],
          "heatmap": [
           {
            "colorbar": {
             "outlinewidth": 0,
             "ticks": ""
            },
            "colorscale": [
             [
              0,
              "#0d0887"
             ],
             [
              0.1111111111111111,
              "#46039f"
             ],
             [
              0.2222222222222222,
              "#7201a8"
             ],
             [
              0.3333333333333333,
              "#9c179e"
             ],
             [
              0.4444444444444444,
              "#bd3786"
             ],
             [
              0.5555555555555556,
              "#d8576b"
             ],
             [
              0.6666666666666666,
              "#ed7953"
             ],
             [
              0.7777777777777778,
              "#fb9f3a"
             ],
             [
              0.8888888888888888,
              "#fdca26"
             ],
             [
              1,
              "#f0f921"
             ]
            ],
            "type": "heatmap"
           }
          ],
          "heatmapgl": [
           {
            "colorbar": {
             "outlinewidth": 0,
             "ticks": ""
            },
            "colorscale": [
             [
              0,
              "#0d0887"
             ],
             [
              0.1111111111111111,
              "#46039f"
             ],
             [
              0.2222222222222222,
              "#7201a8"
             ],
             [
              0.3333333333333333,
              "#9c179e"
             ],
             [
              0.4444444444444444,
              "#bd3786"
             ],
             [
              0.5555555555555556,
              "#d8576b"
             ],
             [
              0.6666666666666666,
              "#ed7953"
             ],
             [
              0.7777777777777778,
              "#fb9f3a"
             ],
             [
              0.8888888888888888,
              "#fdca26"
             ],
             [
              1,
              "#f0f921"
             ]
            ],
            "type": "heatmapgl"
           }
          ],
          "histogram": [
           {
            "marker": {
             "pattern": {
              "fillmode": "overlay",
              "size": 10,
              "solidity": 0.2
             }
            },
            "type": "histogram"
           }
          ],
          "histogram2d": [
           {
            "colorbar": {
             "outlinewidth": 0,
             "ticks": ""
            },
            "colorscale": [
             [
              0,
              "#0d0887"
             ],
             [
              0.1111111111111111,
              "#46039f"
             ],
             [
              0.2222222222222222,
              "#7201a8"
             ],
             [
              0.3333333333333333,
              "#9c179e"
             ],
             [
              0.4444444444444444,
              "#bd3786"
             ],
             [
              0.5555555555555556,
              "#d8576b"
             ],
             [
              0.6666666666666666,
              "#ed7953"
             ],
             [
              0.7777777777777778,
              "#fb9f3a"
             ],
             [
              0.8888888888888888,
              "#fdca26"
             ],
             [
              1,
              "#f0f921"
             ]
            ],
            "type": "histogram2d"
           }
          ],
          "histogram2dcontour": [
           {
            "colorbar": {
             "outlinewidth": 0,
             "ticks": ""
            },
            "colorscale": [
             [
              0,
              "#0d0887"
             ],
             [
              0.1111111111111111,
              "#46039f"
             ],
             [
              0.2222222222222222,
              "#7201a8"
             ],
             [
              0.3333333333333333,
              "#9c179e"
             ],
             [
              0.4444444444444444,
              "#bd3786"
             ],
             [
              0.5555555555555556,
              "#d8576b"
             ],
             [
              0.6666666666666666,
              "#ed7953"
             ],
             [
              0.7777777777777778,
              "#fb9f3a"
             ],
             [
              0.8888888888888888,
              "#fdca26"
             ],
             [
              1,
              "#f0f921"
             ]
            ],
            "type": "histogram2dcontour"
           }
          ],
          "mesh3d": [
           {
            "colorbar": {
             "outlinewidth": 0,
             "ticks": ""
            },
            "type": "mesh3d"
           }
          ],
          "parcoords": [
           {
            "line": {
             "colorbar": {
              "outlinewidth": 0,
              "ticks": ""
             }
            },
            "type": "parcoords"
           }
          ],
          "pie": [
           {
            "automargin": true,
            "type": "pie"
           }
          ],
          "scatter": [
           {
            "fillpattern": {
             "fillmode": "overlay",
             "size": 10,
             "solidity": 0.2
            },
            "type": "scatter"
           }
          ],
          "scatter3d": [
           {
            "line": {
             "colorbar": {
              "outlinewidth": 0,
              "ticks": ""
             }
            },
            "marker": {
             "colorbar": {
              "outlinewidth": 0,
              "ticks": ""
             }
            },
            "type": "scatter3d"
           }
          ],
          "scattercarpet": [
           {
            "marker": {
             "colorbar": {
              "outlinewidth": 0,
              "ticks": ""
             }
            },
            "type": "scattercarpet"
           }
          ],
          "scattergeo": [
           {
            "marker": {
             "colorbar": {
              "outlinewidth": 0,
              "ticks": ""
             }
            },
            "type": "scattergeo"
           }
          ],
          "scattergl": [
           {
            "marker": {
             "colorbar": {
              "outlinewidth": 0,
              "ticks": ""
             }
            },
            "type": "scattergl"
           }
          ],
          "scattermapbox": [
           {
            "marker": {
             "colorbar": {
              "outlinewidth": 0,
              "ticks": ""
             }
            },
            "type": "scattermapbox"
           }
          ],
          "scatterpolar": [
           {
            "marker": {
             "colorbar": {
              "outlinewidth": 0,
              "ticks": ""
             }
            },
            "type": "scatterpolar"
           }
          ],
          "scatterpolargl": [
           {
            "marker": {
             "colorbar": {
              "outlinewidth": 0,
              "ticks": ""
             }
            },
            "type": "scatterpolargl"
           }
          ],
          "scatterternary": [
           {
            "marker": {
             "colorbar": {
              "outlinewidth": 0,
              "ticks": ""
             }
            },
            "type": "scatterternary"
           }
          ],
          "surface": [
           {
            "colorbar": {
             "outlinewidth": 0,
             "ticks": ""
            },
            "colorscale": [
             [
              0,
              "#0d0887"
             ],
             [
              0.1111111111111111,
              "#46039f"
             ],
             [
              0.2222222222222222,
              "#7201a8"
             ],
             [
              0.3333333333333333,
              "#9c179e"
             ],
             [
              0.4444444444444444,
              "#bd3786"
             ],
             [
              0.5555555555555556,
              "#d8576b"
             ],
             [
              0.6666666666666666,
              "#ed7953"
             ],
             [
              0.7777777777777778,
              "#fb9f3a"
             ],
             [
              0.8888888888888888,
              "#fdca26"
             ],
             [
              1,
              "#f0f921"
             ]
            ],
            "type": "surface"
           }
          ],
          "table": [
           {
            "cells": {
             "fill": {
              "color": "#EBF0F8"
             },
             "line": {
              "color": "white"
             }
            },
            "header": {
             "fill": {
              "color": "#C8D4E3"
             },
             "line": {
              "color": "white"
             }
            },
            "type": "table"
           }
          ]
         },
         "layout": {
          "annotationdefaults": {
           "arrowcolor": "#2a3f5f",
           "arrowhead": 0,
           "arrowwidth": 1
          },
          "autotypenumbers": "strict",
          "coloraxis": {
           "colorbar": {
            "outlinewidth": 0,
            "ticks": ""
           }
          },
          "colorscale": {
           "diverging": [
            [
             0,
             "#8e0152"
            ],
            [
             0.1,
             "#c51b7d"
            ],
            [
             0.2,
             "#de77ae"
            ],
            [
             0.3,
             "#f1b6da"
            ],
            [
             0.4,
             "#fde0ef"
            ],
            [
             0.5,
             "#f7f7f7"
            ],
            [
             0.6,
             "#e6f5d0"
            ],
            [
             0.7,
             "#b8e186"
            ],
            [
             0.8,
             "#7fbc41"
            ],
            [
             0.9,
             "#4d9221"
            ],
            [
             1,
             "#276419"
            ]
           ],
           "sequential": [
            [
             0,
             "#0d0887"
            ],
            [
             0.1111111111111111,
             "#46039f"
            ],
            [
             0.2222222222222222,
             "#7201a8"
            ],
            [
             0.3333333333333333,
             "#9c179e"
            ],
            [
             0.4444444444444444,
             "#bd3786"
            ],
            [
             0.5555555555555556,
             "#d8576b"
            ],
            [
             0.6666666666666666,
             "#ed7953"
            ],
            [
             0.7777777777777778,
             "#fb9f3a"
            ],
            [
             0.8888888888888888,
             "#fdca26"
            ],
            [
             1,
             "#f0f921"
            ]
           ],
           "sequentialminus": [
            [
             0,
             "#0d0887"
            ],
            [
             0.1111111111111111,
             "#46039f"
            ],
            [
             0.2222222222222222,
             "#7201a8"
            ],
            [
             0.3333333333333333,
             "#9c179e"
            ],
            [
             0.4444444444444444,
             "#bd3786"
            ],
            [
             0.5555555555555556,
             "#d8576b"
            ],
            [
             0.6666666666666666,
             "#ed7953"
            ],
            [
             0.7777777777777778,
             "#fb9f3a"
            ],
            [
             0.8888888888888888,
             "#fdca26"
            ],
            [
             1,
             "#f0f921"
            ]
           ]
          },
          "colorway": [
           "#636efa",
           "#EF553B",
           "#00cc96",
           "#ab63fa",
           "#FFA15A",
           "#19d3f3",
           "#FF6692",
           "#B6E880",
           "#FF97FF",
           "#FECB52"
          ],
          "font": {
           "color": "#2a3f5f"
          },
          "geo": {
           "bgcolor": "white",
           "lakecolor": "white",
           "landcolor": "#E5ECF6",
           "showlakes": true,
           "showland": true,
           "subunitcolor": "white"
          },
          "hoverlabel": {
           "align": "left"
          },
          "hovermode": "closest",
          "mapbox": {
           "style": "light"
          },
          "paper_bgcolor": "white",
          "plot_bgcolor": "#E5ECF6",
          "polar": {
           "angularaxis": {
            "gridcolor": "white",
            "linecolor": "white",
            "ticks": ""
           },
           "bgcolor": "#E5ECF6",
           "radialaxis": {
            "gridcolor": "white",
            "linecolor": "white",
            "ticks": ""
           }
          },
          "scene": {
           "xaxis": {
            "backgroundcolor": "#E5ECF6",
            "gridcolor": "white",
            "gridwidth": 2,
            "linecolor": "white",
            "showbackground": true,
            "ticks": "",
            "zerolinecolor": "white"
           },
           "yaxis": {
            "backgroundcolor": "#E5ECF6",
            "gridcolor": "white",
            "gridwidth": 2,
            "linecolor": "white",
            "showbackground": true,
            "ticks": "",
            "zerolinecolor": "white"
           },
           "zaxis": {
            "backgroundcolor": "#E5ECF6",
            "gridcolor": "white",
            "gridwidth": 2,
            "linecolor": "white",
            "showbackground": true,
            "ticks": "",
            "zerolinecolor": "white"
           }
          },
          "shapedefaults": {
           "line": {
            "color": "#2a3f5f"
           }
          },
          "ternary": {
           "aaxis": {
            "gridcolor": "white",
            "linecolor": "white",
            "ticks": ""
           },
           "baxis": {
            "gridcolor": "white",
            "linecolor": "white",
            "ticks": ""
           },
           "bgcolor": "#E5ECF6",
           "caxis": {
            "gridcolor": "white",
            "linecolor": "white",
            "ticks": ""
           }
          },
          "title": {
           "x": 0.05
          },
          "xaxis": {
           "automargin": true,
           "gridcolor": "white",
           "linecolor": "white",
           "ticks": "",
           "title": {
            "standoff": 15
           },
           "zerolinecolor": "white",
           "zerolinewidth": 2
          },
          "yaxis": {
           "automargin": true,
           "gridcolor": "white",
           "linecolor": "white",
           "ticks": "",
           "title": {
            "standoff": 15
           },
           "zerolinecolor": "white",
           "zerolinewidth": 2
          }
         }
        },
        "title": {
         "text": "Resultados de la predicción"
        },
        "xaxis": {
         "anchor": "y",
         "domain": [
          0,
          1
         ],
         "title": {
          "text": "date"
         }
        },
        "yaxis": {
         "anchor": "x",
         "domain": [
          0,
          1
         ],
         "title": {
          "text": "value"
         }
        }
       }
      }
     },
     "metadata": {},
     "output_type": "display_data"
    }
   ],
   "source": [
    "# SARIMAX(0, 2, 2)x(0, 1, [1], 12)\n",
    "mod = sm.tsa.statespace.SARIMAX(train['cost'], exog=train['days_in_month'], order=(1,1,0), seasonal_order=(0,1,0,12)).fit()\n",
    "forecast_plot = precict_transform_2(mod, train, test, 'cost', 'days_in_month')\n"
   ]
  },
  {
   "cell_type": "code",
   "execution_count": 20,
   "metadata": {},
   "outputs": [
    {
     "name": "stdout",
     "output_type": "stream",
     "text": [
      "RUNNING THE L-BFGS-B CODE\n",
      "\n",
      "           * * *\n",
      "\n",
      "Machine precision = 2.220D-16\n",
      " N =            3     M =           10\n",
      "\n",
      "At X0         0 variables are exactly at the bounds\n",
      "\n",
      "At iterate    0    f=  1.10046D+01    |proj g|=  1.19902D+01\n",
      "\n",
      "           * * *\n",
      "\n",
      "Tit   = total number of iterations\n",
      "Tnf   = total number of function evaluations\n",
      "Tnint = total number of segments explored during Cauchy searches\n",
      "Skip  = number of BFGS updates skipped\n",
      "Nact  = number of active bounds at final generalized Cauchy point\n",
      "Projg = norm of the final projected gradient\n",
      "F     = final function value\n",
      "\n",
      "           * * *\n",
      "\n",
      "   N    Tit     Tnf  Tnint  Skip  Nact     Projg        F\n",
      "    3      4      6      1     0     0   3.944D-08   9.478D+00\n",
      "  F =   9.4783116585647846     \n",
      "\n",
      "CONVERGENCE: NORM_OF_PROJECTED_GRADIENT_<=_PGTOL            \n",
      "len(train) =  34\n",
      "len(test)  =  9\n",
      "final      = 42\n",
      "exogenus [31 31 30 31 30 31 31 28 31]\n"
     ]
    },
    {
     "name": "stderr",
     "output_type": "stream",
     "text": [
      "/home/bitsamericas/Documents/2-proyectos/time-series-expense-control/myenv-py3.11/lib/python3.11/site-packages/statsmodels/tsa/statespace/representation.py:374: FutureWarning: Unknown keyword arguments: dict_keys(['disp']).Passing unknown keyword arguments will raise a TypeError beginning in version 0.15.\n",
      "  warnings.warn(msg, FutureWarning)\n",
      " This problem is unconstrained.\n",
      "/home/bitsamericas/Documents/2-proyectos/time-series-expense-control/myenv-py3.11/lib/python3.11/site-packages/statsmodels/tsa/statespace/representation.py:374: FutureWarning: Unknown keyword arguments: dict_keys(['disp']).Passing unknown keyword arguments will raise a TypeError beginning in version 0.15.\n",
      "  warnings.warn(msg, FutureWarning)\n"
     ]
    }
   ],
   "source": [
    "\n",
    "# borrar\n",
    "mod1 = sm.tsa.statespace.SARIMAX(train['cost'], exog=train['days_in_month'], order=(1,1,0), seasonal_order=(0,1,0,12),disp=False).fit()\n",
    "lenend = len(train) + len(test) -1\n",
    "print('len(train) = ',len(train))\n",
    "print('len(test)  = ',len(test))\n",
    "print('final      =', lenend)\n",
    "print('exogenus', test['days_in_month'].values)\n",
    "my_predict = mod1.predict(start=len(train), end=lenend, exog=test['days_in_month'])\n",
    "# print(my_predict)"
   ]
  },
  {
   "cell_type": "code",
   "execution_count": 21,
   "metadata": {},
   "outputs": [
    {
     "name": "stdout",
     "output_type": "stream",
     "text": [
      "2022-07-31    4.003173e+06\n",
      "2022-08-31    5.098040e+06\n",
      "2022-09-30    4.597665e+06\n",
      "2022-10-31    5.417946e+06\n",
      "2022-11-30    5.291909e+06\n",
      "2022-12-31    6.268266e+06\n",
      "2023-01-31    5.270184e+06\n",
      "2023-02-28    4.198362e+06\n",
      "2023-03-31    5.096009e+06\n",
      "Freq: M, Name: predicted_mean, dtype: float64\n"
     ]
    }
   ],
   "source": [
    "print(my_predict)"
   ]
  },
  {
   "attachments": {},
   "cell_type": "markdown",
   "metadata": {},
   "source": [
    "Sí, el método forecast() predice valores futuros a partir del final de los datos de entrenamiento. Es decir, el método utiliza los datos de entrenamiento más recientes disponibles para ajustar el modelo y generar una predicción de los valores futuros.\n",
    "\n",
    "En el caso de SARIMAX, el método forecast() utiliza el último valor observado en la serie temporal y las variables exógenas correspondientes para generar la primera predicción. A partir de ahí, el método se basa en las predicciones anteriores y las variables exógenas para generar predicciones futuras.\n",
    "\n",
    "Por ejemplo, si sus datos de entrenamiento incluyen los meses de enero de 2010 a diciembre de 2019, el método forecast() generará predicciones a partir de enero de 2020 y más allá.\n",
    "\n",
    "Es importante tener en cuenta que el método forecast() no tiene en cuenta los datos futuros que no están disponibles en el momento de ajustar el modelo. Por lo tanto, la precisión de las predicciones puede disminuir a medida que se alejan en el futuro, especialmente si hay cambios significativos en el comportamiento de la serie temporal que no están presentes en los datos de entrenamiento."
   ]
  },
  {
   "cell_type": "code",
   "execution_count": 23,
   "metadata": {},
   "outputs": [
    {
     "data": {
      "text/plain": [
       "2022-07-31    4.003173e+06\n",
       "2022-08-31    5.098040e+06\n",
       "2022-09-30    4.597665e+06\n",
       "2022-10-31    5.417946e+06\n",
       "2022-11-30    5.291909e+06\n",
       "2022-12-31    6.268266e+06\n",
       "2023-01-31    5.270184e+06\n",
       "2023-02-28    4.198362e+06\n",
       "2023-03-31    5.096009e+06\n",
       "2023-04-30    4.904698e+06\n",
       "2023-05-31    5.623753e+06\n",
       "2023-06-30    6.493782e+06\n",
       "Freq: M, Name: predicted_mean, dtype: float64"
      ]
     },
     "execution_count": 23,
     "metadata": {},
     "output_type": "execute_result"
    }
   ],
   "source": [
    "# solo predice 3 meses futuro reales 9 faltantes de test\n",
    "next_exogen = [31, 31, 30, 31, 30, 31, 31, 28, 31, 30, 31, 30]\n",
    "my_forecast = mod1.forecast(steps=12, exog=next_exogen)\n",
    "my_forecast\n"
   ]
  },
  {
   "cell_type": "code",
   "execution_count": 6,
   "metadata": {},
   "outputs": [
    {
     "data": {
      "text/html": [
       "<div>\n",
       "<style scoped>\n",
       "    .dataframe tbody tr th:only-of-type {\n",
       "        vertical-align: middle;\n",
       "    }\n",
       "\n",
       "    .dataframe tbody tr th {\n",
       "        vertical-align: top;\n",
       "    }\n",
       "\n",
       "    .dataframe thead th {\n",
       "        text-align: right;\n",
       "    }\n",
       "</style>\n",
       "<table border=\"1\" class=\"dataframe\">\n",
       "  <thead>\n",
       "    <tr style=\"text-align: right;\">\n",
       "      <th></th>\n",
       "      <th>cost</th>\n",
       "      <th>holidays_cont</th>\n",
       "      <th>month</th>\n",
       "      <th>year</th>\n",
       "      <th>days_in_month</th>\n",
       "      <th>is_year_start</th>\n",
       "      <th>is_year_end</th>\n",
       "    </tr>\n",
       "    <tr>\n",
       "      <th>date</th>\n",
       "      <th></th>\n",
       "      <th></th>\n",
       "      <th></th>\n",
       "      <th></th>\n",
       "      <th></th>\n",
       "      <th></th>\n",
       "      <th></th>\n",
       "    </tr>\n",
       "  </thead>\n",
       "  <tbody>\n",
       "    <tr>\n",
       "      <th>2022-07-31</th>\n",
       "      <td>3511116</td>\n",
       "      <td>2</td>\n",
       "      <td>7</td>\n",
       "      <td>2022</td>\n",
       "      <td>31</td>\n",
       "      <td>False</td>\n",
       "      <td>0</td>\n",
       "    </tr>\n",
       "    <tr>\n",
       "      <th>2022-08-31</th>\n",
       "      <td>3591612</td>\n",
       "      <td>2</td>\n",
       "      <td>8</td>\n",
       "      <td>2022</td>\n",
       "      <td>31</td>\n",
       "      <td>False</td>\n",
       "      <td>0</td>\n",
       "    </tr>\n",
       "    <tr>\n",
       "      <th>2022-09-30</th>\n",
       "      <td>4082624</td>\n",
       "      <td>0</td>\n",
       "      <td>9</td>\n",
       "      <td>2022</td>\n",
       "      <td>30</td>\n",
       "      <td>False</td>\n",
       "      <td>0</td>\n",
       "    </tr>\n",
       "    <tr>\n",
       "      <th>2022-10-31</th>\n",
       "      <td>5296946</td>\n",
       "      <td>1</td>\n",
       "      <td>10</td>\n",
       "      <td>2022</td>\n",
       "      <td>31</td>\n",
       "      <td>False</td>\n",
       "      <td>0</td>\n",
       "    </tr>\n",
       "    <tr>\n",
       "      <th>2022-11-30</th>\n",
       "      <td>4466767</td>\n",
       "      <td>2</td>\n",
       "      <td>11</td>\n",
       "      <td>2022</td>\n",
       "      <td>30</td>\n",
       "      <td>False</td>\n",
       "      <td>0</td>\n",
       "    </tr>\n",
       "    <tr>\n",
       "      <th>2022-12-31</th>\n",
       "      <td>2901875</td>\n",
       "      <td>2</td>\n",
       "      <td>12</td>\n",
       "      <td>2022</td>\n",
       "      <td>31</td>\n",
       "      <td>False</td>\n",
       "      <td>1</td>\n",
       "    </tr>\n",
       "    <tr>\n",
       "      <th>2023-01-31</th>\n",
       "      <td>2962677</td>\n",
       "      <td>1</td>\n",
       "      <td>1</td>\n",
       "      <td>2023</td>\n",
       "      <td>31</td>\n",
       "      <td>False</td>\n",
       "      <td>0</td>\n",
       "    </tr>\n",
       "    <tr>\n",
       "      <th>2023-02-28</th>\n",
       "      <td>2505194</td>\n",
       "      <td>0</td>\n",
       "      <td>2</td>\n",
       "      <td>2023</td>\n",
       "      <td>28</td>\n",
       "      <td>False</td>\n",
       "      <td>0</td>\n",
       "    </tr>\n",
       "    <tr>\n",
       "      <th>2023-03-31</th>\n",
       "      <td>2882122</td>\n",
       "      <td>1</td>\n",
       "      <td>3</td>\n",
       "      <td>2023</td>\n",
       "      <td>31</td>\n",
       "      <td>False</td>\n",
       "      <td>0</td>\n",
       "    </tr>\n",
       "  </tbody>\n",
       "</table>\n",
       "</div>"
      ],
      "text/plain": [
       "               cost  holidays_cont  month  year  days_in_month  is_year_start   \n",
       "date                                                                            \n",
       "2022-07-31  3511116              2      7  2022             31          False  \\\n",
       "2022-08-31  3591612              2      8  2022             31          False   \n",
       "2022-09-30  4082624              0      9  2022             30          False   \n",
       "2022-10-31  5296946              1     10  2022             31          False   \n",
       "2022-11-30  4466767              2     11  2022             30          False   \n",
       "2022-12-31  2901875              2     12  2022             31          False   \n",
       "2023-01-31  2962677              1      1  2023             31          False   \n",
       "2023-02-28  2505194              0      2  2023             28          False   \n",
       "2023-03-31  2882122              1      3  2023             31          False   \n",
       "\n",
       "            is_year_end  \n",
       "date                     \n",
       "2022-07-31            0  \n",
       "2022-08-31            0  \n",
       "2022-09-30            0  \n",
       "2022-10-31            0  \n",
       "2022-11-30            0  \n",
       "2022-12-31            1  \n",
       "2023-01-31            0  \n",
       "2023-02-28            0  \n",
       "2023-03-31            0  "
      ]
     },
     "execution_count": 6,
     "metadata": {},
     "output_type": "execute_result"
    }
   ],
   "source": [
    "test"
   ]
  }
 ],
 "metadata": {
  "kernelspec": {
   "display_name": "entorno",
   "language": "python",
   "name": "python3"
  },
  "language_info": {
   "codemirror_mode": {
    "name": "ipython",
    "version": 3
   },
   "file_extension": ".py",
   "mimetype": "text/x-python",
   "name": "python",
   "nbconvert_exporter": "python",
   "pygments_lexer": "ipython3",
   "version": "3.11.3"
  },
  "orig_nbformat": 4
 },
 "nbformat": 4,
 "nbformat_minor": 2
}
