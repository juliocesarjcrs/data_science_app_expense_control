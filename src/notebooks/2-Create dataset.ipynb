{
 "cells": [
  {
   "cell_type": "code",
   "execution_count": 1,
   "id": "f26650e1",
   "metadata": {
    "tags": []
   },
   "outputs": [],
   "source": [
    "import pandas as pd\n",
    "import numpy as np\n",
    "import matplotlib.pyplot as plt"
   ]
  },
  {
   "cell_type": "code",
   "execution_count": 2,
   "id": "8da9a795-971e-49d5-8cd5-8de0569e638c",
   "metadata": {
    "tags": []
   },
   "outputs": [],
   "source": [
    "path_load = \"../../data/\""
   ]
  },
  {
   "cell_type": "code",
   "execution_count": 3,
   "id": "82e28f23",
   "metadata": {
    "tags": []
   },
   "outputs": [],
   "source": [
    "file_name = \"raw/expenses.csv\"\n",
    "full_path = path_load + file_name\n",
    "data = pd.read_csv(full_path,parse_dates =[\"date\"])\n",
    "# data['date']  = pd.to_datetime(data['date']) otra opción si no se aplicara parse_dates"
   ]
  },
  {
   "cell_type": "code",
   "execution_count": 4,
   "id": "0c1792d3",
   "metadata": {
    "tags": []
   },
   "outputs": [
    {
     "data": {
      "text/html": [
       "<div>\n",
       "<style scoped>\n",
       "    .dataframe tbody tr th:only-of-type {\n",
       "        vertical-align: middle;\n",
       "    }\n",
       "\n",
       "    .dataframe tbody tr th {\n",
       "        vertical-align: top;\n",
       "    }\n",
       "\n",
       "    .dataframe thead th {\n",
       "        text-align: right;\n",
       "    }\n",
       "</style>\n",
       "<table border=\"1\" class=\"dataframe\">\n",
       "  <thead>\n",
       "    <tr style=\"text-align: right;\">\n",
       "      <th></th>\n",
       "      <th>id</th>\n",
       "      <th>cost</th>\n",
       "      <th>category</th>\n",
       "      <th>subcategory</th>\n",
       "      <th>created at</th>\n",
       "      <th>date</th>\n",
       "    </tr>\n",
       "  </thead>\n",
       "  <tbody>\n",
       "    <tr>\n",
       "      <th>0</th>\n",
       "      <td>40971</td>\n",
       "      <td>7700</td>\n",
       "      <td>Alimentación</td>\n",
       "      <td>Postres</td>\n",
       "      <td>2023-05-11T17:42:04.198Z</td>\n",
       "      <td>2023-05-11 00:00:00+00:00</td>\n",
       "    </tr>\n",
       "    <tr>\n",
       "      <th>1</th>\n",
       "      <td>40956</td>\n",
       "      <td>56892</td>\n",
       "      <td>Vivienda</td>\n",
       "      <td>Internet Hogar (Día 10)</td>\n",
       "      <td>2023-05-09T15:14:10.442Z</td>\n",
       "      <td>2023-05-09 00:00:00+00:00</td>\n",
       "    </tr>\n",
       "    <tr>\n",
       "      <th>2</th>\n",
       "      <td>40954</td>\n",
       "      <td>136000</td>\n",
       "      <td>Cultura, diversión y esparcimiento</td>\n",
       "      <td>Deportes</td>\n",
       "      <td>2023-05-07T21:02:58.426Z</td>\n",
       "      <td>2023-05-07 00:00:00+00:00</td>\n",
       "    </tr>\n",
       "    <tr>\n",
       "      <th>3</th>\n",
       "      <td>40953</td>\n",
       "      <td>5000</td>\n",
       "      <td>Alimentación</td>\n",
       "      <td>Postres</td>\n",
       "      <td>2023-05-07T19:16:01.343Z</td>\n",
       "      <td>2023-05-07 00:00:00+00:00</td>\n",
       "    </tr>\n",
       "    <tr>\n",
       "      <th>4</th>\n",
       "      <td>40952</td>\n",
       "      <td>24000</td>\n",
       "      <td>Alimentación</td>\n",
       "      <td>Comida fuera del hogar</td>\n",
       "      <td>2023-05-07T19:15:34.628Z</td>\n",
       "      <td>2023-05-07 00:00:00+00:00</td>\n",
       "    </tr>\n",
       "  </tbody>\n",
       "</table>\n",
       "</div>"
      ],
      "text/plain": [
       "      id    cost                            category              subcategory   \n",
       "0  40971    7700                        Alimentación                  Postres  \\\n",
       "1  40956   56892                            Vivienda  Internet Hogar (Día 10)   \n",
       "2  40954  136000  Cultura, diversión y esparcimiento                 Deportes   \n",
       "3  40953    5000                        Alimentación                  Postres   \n",
       "4  40952   24000                        Alimentación   Comida fuera del hogar   \n",
       "\n",
       "                 created at                      date  \n",
       "0  2023-05-11T17:42:04.198Z 2023-05-11 00:00:00+00:00  \n",
       "1  2023-05-09T15:14:10.442Z 2023-05-09 00:00:00+00:00  \n",
       "2  2023-05-07T21:02:58.426Z 2023-05-07 00:00:00+00:00  \n",
       "3  2023-05-07T19:16:01.343Z 2023-05-07 00:00:00+00:00  \n",
       "4  2023-05-07T19:15:34.628Z 2023-05-07 00:00:00+00:00  "
      ]
     },
     "execution_count": 4,
     "metadata": {},
     "output_type": "execute_result"
    }
   ],
   "source": [
    "data.head()"
   ]
  },
  {
   "cell_type": "code",
   "execution_count": 5,
   "id": "0e02b77a",
   "metadata": {
    "tags": []
   },
   "outputs": [
    {
     "data": {
      "text/html": [
       "<div>\n",
       "<style scoped>\n",
       "    .dataframe tbody tr th:only-of-type {\n",
       "        vertical-align: middle;\n",
       "    }\n",
       "\n",
       "    .dataframe tbody tr th {\n",
       "        vertical-align: top;\n",
       "    }\n",
       "\n",
       "    .dataframe thead th {\n",
       "        text-align: right;\n",
       "    }\n",
       "</style>\n",
       "<table border=\"1\" class=\"dataframe\">\n",
       "  <thead>\n",
       "    <tr style=\"text-align: right;\">\n",
       "      <th></th>\n",
       "      <th>id</th>\n",
       "      <th>cost</th>\n",
       "    </tr>\n",
       "  </thead>\n",
       "  <tbody>\n",
       "    <tr>\n",
       "      <th>count</th>\n",
       "      <td>3409.000000</td>\n",
       "      <td>3.409000e+03</td>\n",
       "    </tr>\n",
       "    <tr>\n",
       "      <th>mean</th>\n",
       "      <td>25230.797595</td>\n",
       "      <td>2.160079e+04</td>\n",
       "    </tr>\n",
       "    <tr>\n",
       "      <th>std</th>\n",
       "      <td>12961.750048</td>\n",
       "      <td>8.478816e+04</td>\n",
       "    </tr>\n",
       "    <tr>\n",
       "      <th>min</th>\n",
       "      <td>1734.000000</td>\n",
       "      <td>2.000000e+02</td>\n",
       "    </tr>\n",
       "    <tr>\n",
       "      <th>25%</th>\n",
       "      <td>12884.000000</td>\n",
       "      <td>3.350000e+03</td>\n",
       "    </tr>\n",
       "    <tr>\n",
       "      <th>50%</th>\n",
       "      <td>26274.000000</td>\n",
       "      <td>5.400000e+03</td>\n",
       "    </tr>\n",
       "    <tr>\n",
       "      <th>75%</th>\n",
       "      <td>39614.000000</td>\n",
       "      <td>1.200000e+04</td>\n",
       "    </tr>\n",
       "    <tr>\n",
       "      <th>max</th>\n",
       "      <td>40971.000000</td>\n",
       "      <td>2.031520e+06</td>\n",
       "    </tr>\n",
       "  </tbody>\n",
       "</table>\n",
       "</div>"
      ],
      "text/plain": [
       "                 id          cost\n",
       "count   3409.000000  3.409000e+03\n",
       "mean   25230.797595  2.160079e+04\n",
       "std    12961.750048  8.478816e+04\n",
       "min     1734.000000  2.000000e+02\n",
       "25%    12884.000000  3.350000e+03\n",
       "50%    26274.000000  5.400000e+03\n",
       "75%    39614.000000  1.200000e+04\n",
       "max    40971.000000  2.031520e+06"
      ]
     },
     "execution_count": 5,
     "metadata": {},
     "output_type": "execute_result"
    }
   ],
   "source": [
    "data.describe()"
   ]
  },
  {
   "cell_type": "code",
   "execution_count": 6,
   "id": "8b6257a9",
   "metadata": {
    "tags": []
   },
   "outputs": [],
   "source": [
    "grouped_date = data.groupby(\"date\")"
   ]
  },
  {
   "cell_type": "code",
   "execution_count": 7,
   "id": "20996e32",
   "metadata": {
    "tags": []
   },
   "outputs": [
    {
     "data": {
      "text/plain": [
       "{2021-07-01 00:00:00+00:00: [3407, 3408], 2021-07-13 00:00:00+00:00: [3406], 2021-07-16 00:00:00+00:00: [3405], 2021-07-17 00:00:00+00:00: [3402, 3403, 3404], 2021-07-19 00:00:00+00:00: [3401], 2021-07-20 00:00:00+00:00: [3389, 3390, 3391, 3392, 3393, 3394, 3395, 3396, 3397, 3398, 3399, 3400], 2021-07-22 00:00:00+00:00: [3388], 2021-07-23 00:00:00+00:00: [3387], 2021-07-30 00:00:00+00:00: [3384, 3385, 3386], 2021-07-31 00:00:00+00:00: [3374, 3375, 3376, 3377, 3378, 3379, 3380, 3381, 3382, 3383], 2021-08-01 00:00:00+00:00: [3367, 3368, 3369, 3370, 3371, 3372, 3373], 2021-08-02 00:00:00+00:00: [3364, 3365, 3366], 2021-08-03 00:00:00+00:00: [3361, 3362, 3363], 2021-08-04 00:00:00+00:00: [3358, 3359, 3360], 2021-08-05 00:00:00+00:00: [3352, 3353, 3354, 3355, 3356, 3357], 2021-08-06 00:00:00+00:00: [3342, 3343, 3344, 3345, 3346, 3347, 3348, 3349, 3350, 3351], 2021-08-07 00:00:00+00:00: [3338, 3339, 3340, 3341], 2021-08-08 00:00:00+00:00: [3328, 3329, 3330, 3331, 3332, 3333, 3334, 3335, 3336, 3337], 2021-08-09 00:00:00+00:00: [3320, 3321, 3322, 3323, 3324, 3325, 3326, 3327], 2021-08-10 00:00:00+00:00: [3316, 3317, 3318, 3319], 2021-08-11 00:00:00+00:00: [3308, 3309, 3310, 3311, 3312, 3313, 3314, 3315], 2021-08-12 00:00:00+00:00: [3294, 3295, 3296, 3297, 3298, 3299, 3300, 3301, 3302, 3303, 3304, 3305, 3306, 3307], 2021-08-13 00:00:00+00:00: [3289, 3290, 3291, 3292, 3293], 2021-08-14 00:00:00+00:00: [3271, 3272, 3273, 3274, 3275, 3276, 3277, 3278, 3279, 3280, 3281, 3282, 3283, 3284, 3285, 3286, 3287, 3288], 2021-08-15 00:00:00+00:00: [3264, 3265, 3266, 3267, 3268, 3269, 3270], 2021-08-16 00:00:00+00:00: [3261, 3262, 3263], 2021-08-17 00:00:00+00:00: [3258, 3259, 3260], 2021-08-18 00:00:00+00:00: [3257], 2021-08-19 00:00:00+00:00: [3254, 3255, 3256], 2021-08-20 00:00:00+00:00: [3253], 2021-08-21 00:00:00+00:00: [3247, 3248, 3249, 3250, 3251, 3252], 2021-08-22 00:00:00+00:00: [3244, 3245, 3246], 2021-08-23 00:00:00+00:00: [3241, 3242, 3243], 2021-08-24 00:00:00+00:00: [3240], 2021-08-25 00:00:00+00:00: [3239], 2021-08-26 00:00:00+00:00: [3236, 3237, 3238], 2021-08-28 00:00:00+00:00: [3231, 3232, 3233, 3234, 3235], 2021-08-29 00:00:00+00:00: [3225, 3226, 3227, 3228, 3229, 3230], 2021-08-30 00:00:00+00:00: [3221, 3222, 3223, 3224], 2021-08-31 00:00:00+00:00: [3217, 3218, 3219, 3220], 2021-09-01 00:00:00+00:00: [3207, 3208, 3209, 3210, 3211, 3212, 3213, 3214, 3215, 3216], 2021-09-02 00:00:00+00:00: [3204, 3205, 3206], 2021-09-03 00:00:00+00:00: [3195, 3196, 3197, 3198, 3199, 3203], 2021-09-04 00:00:00+00:00: [3184, 3185, 3186, 3187, 3188, 3189, 3190, 3191, 3192, 3193, 3194, 3200, 3201, 3202], 2021-09-05 00:00:00+00:00: [3182, 3183], 2021-09-06 00:00:00+00:00: [3177, 3178, 3179, 3180, 3181], 2021-09-07 00:00:00+00:00: [3165, 3166, 3167, 3168, 3169, 3170, 3171, 3172, 3173, 3174, 3175, 3176], 2021-09-08 00:00:00+00:00: [3161, 3162, 3163, 3164], 2021-09-09 00:00:00+00:00: [3155, 3156, 3157, 3158, 3159, 3160], 2021-09-10 00:00:00+00:00: [3144, 3145, 3146, 3147, 3148, 3149, 3150, 3151, 3152, 3153, 3154], 2021-09-11 00:00:00+00:00: [3134, 3135, 3136, 3137, 3138, 3139, 3140, 3141, 3142, 3143], 2021-09-12 00:00:00+00:00: [3128, 3129, 3130, 3131, 3132, 3133], 2021-09-13 00:00:00+00:00: [3119, 3120, 3121, 3122, 3123, 3124, 3125, 3126, 3127], 2021-09-14 00:00:00+00:00: [3107, 3108, 3109, 3110, 3111, 3112, 3113, 3114, 3115, 3116, 3117, 3118], 2021-09-15 00:00:00+00:00: [3105, 3106], 2021-09-16 00:00:00+00:00: [3097, 3098, 3099, 3100, 3101, 3102, 3103, 3104], 2021-09-17 00:00:00+00:00: [3091, 3095, 3096], 2021-09-18 00:00:00+00:00: [3085, 3086, 3087, 3088, 3089, 3090, 3092, 3093, 3094], 2021-09-19 00:00:00+00:00: [3082, 3083, 3084], 2021-09-20 00:00:00+00:00: [3077, 3078, 3079, 3080, 3081], 2021-09-21 00:00:00+00:00: [3074, 3075, 3076], 2021-09-22 00:00:00+00:00: [3071, 3072, 3073], 2021-09-23 00:00:00+00:00: [3058, 3059, 3060, 3061, 3062, 3063, 3064, 3065, 3066, 3067, 3068, 3069, 3070], 2021-09-24 00:00:00+00:00: [3039, 3056, 3057], 2021-09-25 00:00:00+00:00: [3040, 3041, 3042, 3043, 3044, 3045, 3046, 3047, 3048, 3049, 3050, 3051, 3052, 3053, 3054, 3055], 2021-09-27 00:00:00+00:00: [3037, 3038], 2021-09-28 00:00:00+00:00: [3034, 3035, 3036], 2021-09-29 00:00:00+00:00: [3009, 3030, 3031, 3032, 3033], 2021-09-30 00:00:00+00:00: [3010, 3011, 3012, 3013, 3014, 3015, 3016, 3017, 3018, 3019, 3020, 3021, 3022, 3023, 3024, 3025, 3026, 3027, 3028, 3029], 2021-10-01 00:00:00+00:00: [3004, 3005, 3006, 3007, 3008], 2021-10-02 00:00:00+00:00: [2998, 2999, 3000, 3001, 3002, 3003], 2021-10-03 00:00:00+00:00: [2992, 2993, 2994, 2995, 2996, 2997], 2021-10-04 00:00:00+00:00: [2982, 2989, 2990, 2991], 2021-10-05 00:00:00+00:00: [2983, 2986, 2987, 2988], 2021-10-06 00:00:00+00:00: [2979, 2980, 2981, 2984, 2985], 2021-10-07 00:00:00+00:00: [2974, 2975, 2976, 2978], 2021-10-08 00:00:00+00:00: [2970, 2971, 2972, 2973, 2977], 2021-10-09 00:00:00+00:00: [2964, 2965, 2966, 2967, 2968, 2969], 2021-10-10 00:00:00+00:00: [2959, 2960, 2961, 2962, 2963], 2021-10-11 00:00:00+00:00: [2934, 2935, 2936, 2954, 2955, 2956, 2957, 2958], 2021-10-12 00:00:00+00:00: [2930, 2931, 2932, 2933, 2937, 2938, 2939, 2940, 2941, 2942, 2943, 2944, 2945, 2946, 2947, 2948, 2949, 2950, 2951, 2952, 2953], 2021-10-13 00:00:00+00:00: [2927, 2928, 2929], 2021-10-14 00:00:00+00:00: [2922, 2923, 2924, 2925, 2926], 2021-10-15 00:00:00+00:00: [2918, 2919, 2920, 2921], 2021-10-16 00:00:00+00:00: [2912, 2913, 2914, 2915, 2916, 2917], 2021-10-17 00:00:00+00:00: [2897, 2898, 2899, 2900, 2901, 2902, 2903, 2904, 2905, 2906, 2907, 2908, 2909, 2910, 2911], 2021-10-19 00:00:00+00:00: [2886, 2887, 2888, 2889, 2890, 2891, 2892, 2893, 2894, 2895, 2896], 2021-10-20 00:00:00+00:00: [2883, 2884, 2885], 2021-10-21 00:00:00+00:00: [2861, 2862, 2863, 2864, 2865, 2866, 2867, 2868, 2869, 2870, 2871, 2872, 2873, 2874, 2875, 2876, 2877, 2878, 2879, 2880, 2881, 2882], 2021-10-22 00:00:00+00:00: [2853, 2854, 2855, 2856, 2857, 2858, 2859, 2860], 2021-10-23 00:00:00+00:00: [2849, 2850, 2851, 2852], 2021-10-24 00:00:00+00:00: [2844, 2845, 2846, 2847, 2848], 2021-10-25 00:00:00+00:00: [2840, 2841, 2842, 2843], 2021-10-26 00:00:00+00:00: [2833, 2834, 2835, 2836, 2837, 2838, 2839], 2021-10-27 00:00:00+00:00: [2830, 2831, 2832], 2021-10-28 00:00:00+00:00: [2826, 2827, 2828, 2829], 2021-10-29 00:00:00+00:00: [2811, 2812, 2813, 2814, 2815, 2816, 2817, 2818, 2819, 2820, 2821, 2822, 2823, 2824, 2825], 2021-10-30 00:00:00+00:00: [2805, 2806, 2807, 2808, 2810], 2021-10-31 00:00:00+00:00: [2800, 2801, 2802, 2803, 2804], 2021-11-01 00:00:00+00:00: [2796, 2797, 2798, 2799, 2809], ...}"
      ]
     },
     "execution_count": 7,
     "metadata": {},
     "output_type": "execute_result"
    }
   ],
   "source": [
    "grouped_date.groups"
   ]
  },
  {
   "cell_type": "code",
   "execution_count": 8,
   "id": "0983675b",
   "metadata": {
    "tags": []
   },
   "outputs": [
    {
     "data": {
      "text/plain": [
       "id                           int64\n",
       "cost                         int64\n",
       "category                    object\n",
       "subcategory                 object\n",
       "created at                  object\n",
       "date           datetime64[ns, UTC]\n",
       "dtype: object"
      ]
     },
     "execution_count": 8,
     "metadata": {},
     "output_type": "execute_result"
    }
   ],
   "source": [
    "data.dtypes"
   ]
  },
  {
   "cell_type": "markdown",
   "id": "24b5ea09",
   "metadata": {},
   "source": [
    "# Muestrar por mes"
   ]
  },
  {
   "cell_type": "code",
   "execution_count": 9,
   "id": "5f4b12e8",
   "metadata": {
    "tags": []
   },
   "outputs": [
    {
     "data": {
      "text/plain": [
       "date\n",
       "2021-07-31 00:00:00+00:00    1854810\n",
       "2021-08-31 00:00:00+00:00    2949470\n",
       "2021-09-30 00:00:00+00:00    2449092\n",
       "2021-10-31 00:00:00+00:00    3269372\n",
       "2021-11-30 00:00:00+00:00    3143335\n",
       "2021-12-31 00:00:00+00:00    4119692\n",
       "2022-01-31 00:00:00+00:00    3121610\n",
       "2022-02-28 00:00:00+00:00    2049788\n",
       "2022-03-31 00:00:00+00:00    2947435\n",
       "2022-04-30 00:00:00+00:00    2756124\n",
       "2022-05-31 00:00:00+00:00    3475179\n",
       "2022-06-30 00:00:00+00:00    4345208\n",
       "2022-07-31 00:00:00+00:00    3511116\n",
       "2022-08-31 00:00:00+00:00    3591612\n",
       "2022-09-30 00:00:00+00:00    4082624\n",
       "2022-10-31 00:00:00+00:00    5296946\n",
       "2022-11-30 00:00:00+00:00    4466767\n",
       "2022-12-31 00:00:00+00:00    2901875\n",
       "2023-01-31 00:00:00+00:00    2962677\n",
       "2023-02-28 00:00:00+00:00    2505194\n",
       "2023-03-31 00:00:00+00:00    2882122\n",
       "2023-04-30 00:00:00+00:00    3183723\n",
       "2023-05-31 00:00:00+00:00    1771318\n",
       "Freq: M, Name: cost, dtype: int64"
      ]
     },
     "execution_count": 9,
     "metadata": {},
     "output_type": "execute_result"
    }
   ],
   "source": [
    "resample_date = data.resample('1M', on='date').cost.sum()\n",
    "resample_date"
   ]
  },
  {
   "cell_type": "code",
   "execution_count": 10,
   "id": "7dd976b5",
   "metadata": {
    "tags": []
   },
   "outputs": [],
   "source": [
    "x = resample_date.index\n",
    "y = resample_date.values"
   ]
  },
  {
   "cell_type": "code",
   "execution_count": 11,
   "id": "75d43214",
   "metadata": {
    "tags": []
   },
   "outputs": [
    {
     "name": "stdout",
     "output_type": "stream",
     "text": [
      "Promedio gastos mensual: 3201612.565217391\n"
     ]
    }
   ],
   "source": [
    "print('Promedio gastos mensual:', y.mean())"
   ]
  },
  {
   "cell_type": "code",
   "execution_count": 12,
   "id": "4dbf27e6",
   "metadata": {
    "tags": []
   },
   "outputs": [
    {
     "data": {
      "text/plain": [
       "DatetimeIndex(['2021-07-31 00:00:00+00:00', '2021-08-31 00:00:00+00:00',\n",
       "               '2021-09-30 00:00:00+00:00', '2021-10-31 00:00:00+00:00',\n",
       "               '2021-11-30 00:00:00+00:00', '2021-12-31 00:00:00+00:00',\n",
       "               '2022-01-31 00:00:00+00:00', '2022-02-28 00:00:00+00:00',\n",
       "               '2022-03-31 00:00:00+00:00', '2022-04-30 00:00:00+00:00',\n",
       "               '2022-05-31 00:00:00+00:00', '2022-06-30 00:00:00+00:00',\n",
       "               '2022-07-31 00:00:00+00:00', '2022-08-31 00:00:00+00:00',\n",
       "               '2022-09-30 00:00:00+00:00', '2022-10-31 00:00:00+00:00',\n",
       "               '2022-11-30 00:00:00+00:00', '2022-12-31 00:00:00+00:00',\n",
       "               '2023-01-31 00:00:00+00:00', '2023-02-28 00:00:00+00:00',\n",
       "               '2023-03-31 00:00:00+00:00', '2023-04-30 00:00:00+00:00',\n",
       "               '2023-05-31 00:00:00+00:00'],\n",
       "              dtype='datetime64[ns, UTC]', name='date', freq='M')"
      ]
     },
     "execution_count": 12,
     "metadata": {},
     "output_type": "execute_result"
    }
   ],
   "source": [
    "x"
   ]
  },
  {
   "cell_type": "code",
   "execution_count": 13,
   "id": "ba6e3962",
   "metadata": {
    "tags": []
   },
   "outputs": [
    {
     "data": {
      "text/plain": [
       "[<matplotlib.lines.Line2D at 0x7faa6cafea50>]"
      ]
     },
     "execution_count": 13,
     "metadata": {},
     "output_type": "execute_result"
    },
    {
     "data": {
      "image/png": "[encoded data removed]",
      "text/plain": [
       "<Figure size 640x480 with 1 Axes>"
      ]
     },
     "metadata": {},
     "output_type": "display_data"
    }
   ],
   "source": [
    "#plt.plot(kind=\"scatter\", x=x, y=y)\n",
    "plt.plot(x, y)"
   ]
  },
  {
   "cell_type": "markdown",
   "id": "36800b10",
   "metadata": {},
   "source": [
    "# Agregando diás festivos al datasets"
   ]
  },
  {
   "cell_type": "code",
   "execution_count": 14,
   "id": "e1da0d70",
   "metadata": {
    "tags": []
   },
   "outputs": [],
   "source": [
    "from datetime import date\n",
    "import holidays"
   ]
  },
  {
   "cell_type": "code",
   "execution_count": 15,
   "id": "19de6bed",
   "metadata": {
    "tags": []
   },
   "outputs": [],
   "source": [
    "co_holidays = holidays.CO()"
   ]
  },
  {
   "cell_type": "code",
   "execution_count": 16,
   "id": "174ef826",
   "metadata": {
    "tags": []
   },
   "outputs": [
    {
     "data": {
      "text/plain": [
       "<function str.index>"
      ]
     },
     "execution_count": 16,
     "metadata": {},
     "output_type": "execute_result"
    }
   ],
   "source": [
    "a = holidays.CO(years = 2022)\n",
    "a[2].index"
   ]
  },
  {
   "cell_type": "code",
   "execution_count": 17,
   "id": "34e167f8",
   "metadata": {
    "tags": []
   },
   "outputs": [],
   "source": [
    "# count holidays in a month\n",
    "def count_holidays_in_month(x):\n",
    "    print(x)\n",
    "    year= x.year\n",
    "    myMonth =  x.month\n",
    "    cant_holidays = 0\n",
    "    for ptr in holidays.CO(years = year).items():\n",
    "        if ptr[0].month == myMonth:\n",
    "            cant_holidays+= 1\n",
    "    return cant_holidays"
   ]
  },
  {
   "cell_type": "code",
   "execution_count": 18,
   "id": "e2c26aef",
   "metadata": {
    "tags": []
   },
   "outputs": [],
   "source": [
    "df=pd.DataFrame()"
   ]
  },
  {
   "cell_type": "code",
   "execution_count": 19,
   "id": "e220dd2e",
   "metadata": {
    "tags": []
   },
   "outputs": [],
   "source": [
    "df['costs'] = resample_date.values"
   ]
  },
  {
   "cell_type": "code",
   "execution_count": 20,
   "id": "49a92c4d",
   "metadata": {
    "tags": []
   },
   "outputs": [
    {
     "data": {
      "text/html": [
       "<div>\n",
       "<style scoped>\n",
       "    .dataframe tbody tr th:only-of-type {\n",
       "        vertical-align: middle;\n",
       "    }\n",
       "\n",
       "    .dataframe tbody tr th {\n",
       "        vertical-align: top;\n",
       "    }\n",
       "\n",
       "    .dataframe thead th {\n",
       "        text-align: right;\n",
       "    }\n",
       "</style>\n",
       "<table border=\"1\" class=\"dataframe\">\n",
       "  <thead>\n",
       "    <tr style=\"text-align: right;\">\n",
       "      <th></th>\n",
       "      <th>costs</th>\n",
       "    </tr>\n",
       "    <tr>\n",
       "      <th>date</th>\n",
       "      <th></th>\n",
       "    </tr>\n",
       "  </thead>\n",
       "  <tbody>\n",
       "    <tr>\n",
       "      <th>2021-07-31 00:00:00+00:00</th>\n",
       "      <td>1854810</td>\n",
       "    </tr>\n",
       "    <tr>\n",
       "      <th>2021-08-31 00:00:00+00:00</th>\n",
       "      <td>2949470</td>\n",
       "    </tr>\n",
       "    <tr>\n",
       "      <th>2021-09-30 00:00:00+00:00</th>\n",
       "      <td>2449092</td>\n",
       "    </tr>\n",
       "    <tr>\n",
       "      <th>2021-10-31 00:00:00+00:00</th>\n",
       "      <td>3269372</td>\n",
       "    </tr>\n",
       "    <tr>\n",
       "      <th>2021-11-30 00:00:00+00:00</th>\n",
       "      <td>3143335</td>\n",
       "    </tr>\n",
       "  </tbody>\n",
       "</table>\n",
       "</div>"
      ],
      "text/plain": [
       "                             costs\n",
       "date                              \n",
       "2021-07-31 00:00:00+00:00  1854810\n",
       "2021-08-31 00:00:00+00:00  2949470\n",
       "2021-09-30 00:00:00+00:00  2449092\n",
       "2021-10-31 00:00:00+00:00  3269372\n",
       "2021-11-30 00:00:00+00:00  3143335"
      ]
     },
     "execution_count": 20,
     "metadata": {},
     "output_type": "execute_result"
    }
   ],
   "source": [
    "df.index = resample_date.index\n",
    "df.head()"
   ]
  },
  {
   "cell_type": "code",
   "execution_count": 21,
   "id": "ee781749",
   "metadata": {
    "tags": []
   },
   "outputs": [
    {
     "name": "stdout",
     "output_type": "stream",
     "text": [
      "DatetimeIndex(['2021-07-31 00:00:00+00:00', '2021-08-31 00:00:00+00:00',\n",
      "               '2021-09-30 00:00:00+00:00', '2021-10-31 00:00:00+00:00',\n",
      "               '2021-11-30 00:00:00+00:00', '2021-12-31 00:00:00+00:00',\n",
      "               '2022-01-31 00:00:00+00:00', '2022-02-28 00:00:00+00:00',\n",
      "               '2022-03-31 00:00:00+00:00', '2022-04-30 00:00:00+00:00',\n",
      "               '2022-05-31 00:00:00+00:00', '2022-06-30 00:00:00+00:00',\n",
      "               '2022-07-31 00:00:00+00:00', '2022-08-31 00:00:00+00:00',\n",
      "               '2022-09-30 00:00:00+00:00', '2022-10-31 00:00:00+00:00',\n",
      "               '2022-11-30 00:00:00+00:00', '2022-12-31 00:00:00+00:00',\n",
      "               '2023-01-31 00:00:00+00:00', '2023-02-28 00:00:00+00:00',\n",
      "               '2023-03-31 00:00:00+00:00', '2023-04-30 00:00:00+00:00',\n",
      "               '2023-05-31 00:00:00+00:00'],\n",
      "              dtype='datetime64[ns, UTC]', freq=None)\n",
      "2021-07-31 00:00:00+00:00\n",
      "2021-08-31 00:00:00+00:00\n",
      "2021-09-30 00:00:00+00:00\n",
      "2021-10-31 00:00:00+00:00\n",
      "2021-11-30 00:00:00+00:00\n",
      "2021-12-31 00:00:00+00:00\n",
      "2022-01-31 00:00:00+00:00\n",
      "2022-02-28 00:00:00+00:00\n",
      "2022-03-31 00:00:00+00:00\n",
      "2022-04-30 00:00:00+00:00\n",
      "2022-05-31 00:00:00+00:00\n",
      "2022-06-30 00:00:00+00:00\n",
      "2022-07-31 00:00:00+00:00\n",
      "2022-08-31 00:00:00+00:00\n",
      "2022-09-30 00:00:00+00:00\n",
      "2022-10-31 00:00:00+00:00\n",
      "2022-11-30 00:00:00+00:00\n",
      "2022-12-31 00:00:00+00:00\n",
      "2023-01-31 00:00:00+00:00\n",
      "2023-02-28 00:00:00+00:00\n",
      "2023-03-31 00:00:00+00:00\n",
      "2023-04-30 00:00:00+00:00\n",
      "2023-05-31 00:00:00+00:00\n"
     ]
    }
   ],
   "source": [
    "df['holidays'] = df.index.to_series().apply(count_holidays_in_month)"
   ]
  },
  {
   "cell_type": "code",
   "execution_count": 22,
   "id": "eb13d441",
   "metadata": {
    "tags": []
   },
   "outputs": [
    {
     "data": {
      "text/html": [
       "<div>\n",
       "<style scoped>\n",
       "    .dataframe tbody tr th:only-of-type {\n",
       "        vertical-align: middle;\n",
       "    }\n",
       "\n",
       "    .dataframe tbody tr th {\n",
       "        vertical-align: top;\n",
       "    }\n",
       "\n",
       "    .dataframe thead th {\n",
       "        text-align: right;\n",
       "    }\n",
       "</style>\n",
       "<table border=\"1\" class=\"dataframe\">\n",
       "  <thead>\n",
       "    <tr style=\"text-align: right;\">\n",
       "      <th></th>\n",
       "      <th>costs</th>\n",
       "      <th>holidays</th>\n",
       "    </tr>\n",
       "    <tr>\n",
       "      <th>date</th>\n",
       "      <th></th>\n",
       "      <th></th>\n",
       "    </tr>\n",
       "  </thead>\n",
       "  <tbody>\n",
       "    <tr>\n",
       "      <th>2021-07-31 00:00:00+00:00</th>\n",
       "      <td>1854810</td>\n",
       "      <td>2</td>\n",
       "    </tr>\n",
       "    <tr>\n",
       "      <th>2021-08-31 00:00:00+00:00</th>\n",
       "      <td>2949470</td>\n",
       "      <td>2</td>\n",
       "    </tr>\n",
       "    <tr>\n",
       "      <th>2021-09-30 00:00:00+00:00</th>\n",
       "      <td>2449092</td>\n",
       "      <td>0</td>\n",
       "    </tr>\n",
       "    <tr>\n",
       "      <th>2021-10-31 00:00:00+00:00</th>\n",
       "      <td>3269372</td>\n",
       "      <td>1</td>\n",
       "    </tr>\n",
       "    <tr>\n",
       "      <th>2021-11-30 00:00:00+00:00</th>\n",
       "      <td>3143335</td>\n",
       "      <td>2</td>\n",
       "    </tr>\n",
       "  </tbody>\n",
       "</table>\n",
       "</div>"
      ],
      "text/plain": [
       "                             costs  holidays\n",
       "date                                        \n",
       "2021-07-31 00:00:00+00:00  1854810         2\n",
       "2021-08-31 00:00:00+00:00  2949470         2\n",
       "2021-09-30 00:00:00+00:00  2449092         0\n",
       "2021-10-31 00:00:00+00:00  3269372         1\n",
       "2021-11-30 00:00:00+00:00  3143335         2"
      ]
     },
     "execution_count": 22,
     "metadata": {},
     "output_type": "execute_result"
    }
   ],
   "source": [
    "df.head()"
   ]
  },
  {
   "cell_type": "code",
   "execution_count": 23,
   "id": "021872ca",
   "metadata": {
    "tags": []
   },
   "outputs": [],
   "source": [
    "# Crear el datasets\n",
    "directory = path_load + 'processed'\n",
    "file_df_name = '/summaryCosts.csv'\n",
    "df.to_csv(directory+file_df_name,index=False)"
   ]
  },
  {
   "cell_type": "code",
   "execution_count": null,
   "id": "2a8e7164",
   "metadata": {},
   "outputs": [],
   "source": []
  }
 ],
 "metadata": {
  "kernelspec": {
   "display_name": "Python 3 (ipykernel)",
   "language": "python",
   "name": "python3"
  },
  "language_info": {
   "codemirror_mode": {
    "name": "ipython",
    "version": 3
   },
   "file_extension": ".py",
   "mimetype": "text/x-python",
   "name": "python",
   "nbconvert_exporter": "python",
   "pygments_lexer": "ipython3",
   "version": "3.11.3"
  },
  "toc": {
   "base_numbering": 1,
   "nav_menu": {},
   "number_sections": true,
   "sideBar": true,
   "skip_h1_title": false,
   "title_cell": "Table of Contents",
   "title_sidebar": "Contents",
   "toc_cell": false,
   "toc_position": {},
   "toc_section_display": true,
   "toc_window_display": false
  }
 },
 "nbformat": 4,
 "nbformat_minor": 5
}
